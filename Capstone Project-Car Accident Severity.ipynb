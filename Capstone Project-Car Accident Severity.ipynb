{
 "cells": [
  {
   "cell_type": "markdown",
   "metadata": {},
   "source": [
    "## Objective: To Predict Severity of an Accident in France"
   ]
  },
  {
   "cell_type": "markdown",
   "metadata": {},
   "source": [
    "### By Edwin Mogondo"
   ]
  },
  {
   "cell_type": "markdown",
   "metadata": {},
   "source": [
    "### Data is from 2005-2016 from Kaggle.com"
   ]
  },
  {
   "cell_type": "markdown",
   "metadata": {},
   "source": [
    "*To achieve this data from [https://www.kaggle.com/](https://www.kaggle.com/ahmedlahlou/accidents-in-france-from-2005-to-2016) will be used.*\n"
   ]
  },
  {
   "cell_type": "markdown",
   "metadata": {},
   "source": [
    "*There are three csv files that will be used for this purpose:*"
   ]
  },
  {
   "cell_type": "markdown",
   "metadata": {},
   "source": [
    "1. Characteristics datasets: caracteristics.csv.csv\n",
    "2. Users datasets: users.csv\n",
    "3. Places datasets: places.csv"
   ]
  },
  {
   "cell_type": "markdown",
   "metadata": {},
   "source": [
    "## Important acronyms"
   ]
  },
  {
   "cell_type": "markdown",
   "metadata": {},
   "source": [
    "1. **grav**: *severity*\n",
    "2. **Num_Acc**: *Identification number*\n",
    "3. **catr**: *road category*\n",
    "4. **circ**: *traffic regime*\n",
    "5. **nbv**: *number of traffic lane*\n",
    "6. **surf**: *surface conditon*\n",
    "7. **infra**: *infrastructure*\n",
    "8. **hrmn**: *month, day, time*\n",
    "9. **int**: *intersection*\n",
    "10. **atm**: *atmospheric condition*\n",
    "11. **dep**: *department*\n",
    "12. **agg**: *agglomeration*\n",
    "13. **lum**: *lighting condition*"
   ]
  },
  {
   "cell_type": "markdown",
   "metadata": {},
   "source": [
    "*According to the existing kernels on kaggle.com the term 'grav' in the users.csv dataset, represents a measure of severity of an accident. This is what will be predicted knowing all other features (characteristics).*\n"
   ]
  },
  {
   "cell_type": "markdown",
   "metadata": {},
   "source": [
    "### Loading important Python Libaries"
   ]
  },
  {
   "cell_type": "code",
   "execution_count": 420,
   "metadata": {},
   "outputs": [],
   "source": [
    "#Importing important libraries\n",
    "import itertools\n",
    "import numpy as np\n",
    "import matplotlib.pyplot as plt\n",
    "from matplotlib.ticker import NullFormatter\n",
    "import pandas as pd\n",
    "import numpy as np\n",
    "import matplotlib.ticker as ticker\n",
    "from sklearn import preprocessing\n",
    "import seaborn as sns\n",
    "%matplotlib inline\n"
   ]
  },
  {
   "cell_type": "markdown",
   "metadata": {},
   "source": [
    "## Importing Data and Exploration"
   ]
  },
  {
   "cell_type": "markdown",
   "metadata": {},
   "source": [
    "### Characteristics Data"
   ]
  },
  {
   "cell_type": "code",
   "execution_count": 421,
   "metadata": {},
   "outputs": [
    {
     "name": "stderr",
     "output_type": "stream",
     "text": [
      "C:\\Python\\capstone\\my_project\\Lib\\site-packages\\IPython\\core\\interactiveshell.py:3145: DtypeWarning: Columns (14) have mixed types.Specify dtype option on import or set low_memory=False.\n",
      "  has_raised = await self.run_ast_nodes(code_ast.body, cell_name,\n"
     ]
    },
    {
     "data": {
      "text/html": [
       "<div>\n",
       "<style scoped>\n",
       "    .dataframe tbody tr th:only-of-type {\n",
       "        vertical-align: middle;\n",
       "    }\n",
       "\n",
       "    .dataframe tbody tr th {\n",
       "        vertical-align: top;\n",
       "    }\n",
       "\n",
       "    .dataframe thead th {\n",
       "        text-align: right;\n",
       "    }\n",
       "</style>\n",
       "<table border=\"1\" class=\"dataframe\">\n",
       "  <thead>\n",
       "    <tr style=\"text-align: right;\">\n",
       "      <th></th>\n",
       "      <th>Num_Acc</th>\n",
       "      <th>an</th>\n",
       "      <th>mois</th>\n",
       "      <th>jour</th>\n",
       "      <th>hrmn</th>\n",
       "      <th>lum</th>\n",
       "      <th>agg</th>\n",
       "      <th>int</th>\n",
       "      <th>atm</th>\n",
       "      <th>col</th>\n",
       "      <th>com</th>\n",
       "      <th>adr</th>\n",
       "      <th>gps</th>\n",
       "      <th>lat</th>\n",
       "      <th>long</th>\n",
       "      <th>dep</th>\n",
       "    </tr>\n",
       "  </thead>\n",
       "  <tbody>\n",
       "    <tr>\n",
       "      <th>0</th>\n",
       "      <td>201600000001</td>\n",
       "      <td>16</td>\n",
       "      <td>2</td>\n",
       "      <td>1</td>\n",
       "      <td>1445</td>\n",
       "      <td>1</td>\n",
       "      <td>2</td>\n",
       "      <td>1</td>\n",
       "      <td>8.0</td>\n",
       "      <td>3.0</td>\n",
       "      <td>5.0</td>\n",
       "      <td>46, rue Sonneville</td>\n",
       "      <td>M</td>\n",
       "      <td>0.0</td>\n",
       "      <td>0</td>\n",
       "      <td>590</td>\n",
       "    </tr>\n",
       "    <tr>\n",
       "      <th>1</th>\n",
       "      <td>201600000002</td>\n",
       "      <td>16</td>\n",
       "      <td>3</td>\n",
       "      <td>16</td>\n",
       "      <td>1800</td>\n",
       "      <td>1</td>\n",
       "      <td>2</td>\n",
       "      <td>6</td>\n",
       "      <td>1.0</td>\n",
       "      <td>6.0</td>\n",
       "      <td>5.0</td>\n",
       "      <td>1a rue du cimetière</td>\n",
       "      <td>M</td>\n",
       "      <td>0.0</td>\n",
       "      <td>0</td>\n",
       "      <td>590</td>\n",
       "    </tr>\n",
       "    <tr>\n",
       "      <th>2</th>\n",
       "      <td>201600000003</td>\n",
       "      <td>16</td>\n",
       "      <td>7</td>\n",
       "      <td>13</td>\n",
       "      <td>1900</td>\n",
       "      <td>1</td>\n",
       "      <td>1</td>\n",
       "      <td>1</td>\n",
       "      <td>1.0</td>\n",
       "      <td>6.0</td>\n",
       "      <td>11.0</td>\n",
       "      <td>NaN</td>\n",
       "      <td>M</td>\n",
       "      <td>0.0</td>\n",
       "      <td>0</td>\n",
       "      <td>590</td>\n",
       "    </tr>\n",
       "    <tr>\n",
       "      <th>3</th>\n",
       "      <td>201600000004</td>\n",
       "      <td>16</td>\n",
       "      <td>8</td>\n",
       "      <td>15</td>\n",
       "      <td>1930</td>\n",
       "      <td>2</td>\n",
       "      <td>2</td>\n",
       "      <td>1</td>\n",
       "      <td>7.0</td>\n",
       "      <td>3.0</td>\n",
       "      <td>477.0</td>\n",
       "      <td>52 rue victor hugo</td>\n",
       "      <td>M</td>\n",
       "      <td>0.0</td>\n",
       "      <td>0</td>\n",
       "      <td>590</td>\n",
       "    </tr>\n",
       "    <tr>\n",
       "      <th>4</th>\n",
       "      <td>201600000005</td>\n",
       "      <td>16</td>\n",
       "      <td>12</td>\n",
       "      <td>23</td>\n",
       "      <td>1100</td>\n",
       "      <td>1</td>\n",
       "      <td>2</td>\n",
       "      <td>3</td>\n",
       "      <td>1.0</td>\n",
       "      <td>3.0</td>\n",
       "      <td>11.0</td>\n",
       "      <td>rue Joliot curie</td>\n",
       "      <td>M</td>\n",
       "      <td>0.0</td>\n",
       "      <td>0</td>\n",
       "      <td>590</td>\n",
       "    </tr>\n",
       "  </tbody>\n",
       "</table>\n",
       "</div>"
      ],
      "text/plain": [
       "        Num_Acc  an  mois  jour  hrmn  lum  agg  int  atm  col    com  \\\n",
       "0  201600000001  16     2     1  1445    1    2    1  8.0  3.0    5.0   \n",
       "1  201600000002  16     3    16  1800    1    2    6  1.0  6.0    5.0   \n",
       "2  201600000003  16     7    13  1900    1    1    1  1.0  6.0   11.0   \n",
       "3  201600000004  16     8    15  1930    2    2    1  7.0  3.0  477.0   \n",
       "4  201600000005  16    12    23  1100    1    2    3  1.0  3.0   11.0   \n",
       "\n",
       "                   adr gps  lat long  dep  \n",
       "0   46, rue Sonneville   M  0.0    0  590  \n",
       "1  1a rue du cimetière   M  0.0    0  590  \n",
       "2                  NaN   M  0.0    0  590  \n",
       "3   52 rue victor hugo   M  0.0    0  590  \n",
       "4     rue Joliot curie   M  0.0    0  590  "
      ]
     },
     "execution_count": 421,
     "metadata": {},
     "output_type": "execute_result"
    }
   ],
   "source": [
    "#importing caracteristics.csv\n",
    "char_df = pd.read_csv(\"data/caracteristics.csv\", encoding=\"latin-1\")\n",
    "char_df.head()"
   ]
  },
  {
   "cell_type": "code",
   "execution_count": 422,
   "metadata": {},
   "outputs": [
    {
     "data": {
      "text/plain": [
       "(839985, 16)"
      ]
     },
     "execution_count": 422,
     "metadata": {},
     "output_type": "execute_result"
    }
   ],
   "source": [
    "#shape of data\n",
    "char_df.shape"
   ]
  },
  {
   "cell_type": "markdown",
   "metadata": {},
   "source": [
    "##### There are 839985 Instances and 16 attributes."
   ]
  },
  {
   "cell_type": "code",
   "execution_count": 423,
   "metadata": {},
   "outputs": [
    {
     "name": "stdout",
     "output_type": "stream",
     "text": [
      "<class 'pandas.core.frame.DataFrame'>\n",
      "RangeIndex: 839985 entries, 0 to 839984\n",
      "Data columns (total 16 columns):\n",
      " #   Column   Non-Null Count   Dtype  \n",
      "---  ------   --------------   -----  \n",
      " 0   Num_Acc  839985 non-null  int64  \n",
      " 1   an       839985 non-null  int64  \n",
      " 2   mois     839985 non-null  int64  \n",
      " 3   jour     839985 non-null  int64  \n",
      " 4   hrmn     839985 non-null  int64  \n",
      " 5   lum      839985 non-null  int64  \n",
      " 6   agg      839985 non-null  int64  \n",
      " 7   int      839985 non-null  int64  \n",
      " 8   atm      839930 non-null  float64\n",
      " 9   col      839974 non-null  float64\n",
      " 10  com      839983 non-null  float64\n",
      " 11  adr      699443 non-null  object \n",
      " 12  gps      366226 non-null  object \n",
      " 13  lat      362471 non-null  float64\n",
      " 14  long     362467 non-null  object \n",
      " 15  dep      839985 non-null  int64  \n",
      "dtypes: float64(4), int64(9), object(3)\n",
      "memory usage: 102.5+ MB\n"
     ]
    }
   ],
   "source": [
    "#Data types\n",
    "char_df.info()"
   ]
  },
  {
   "cell_type": "code",
   "execution_count": 424,
   "metadata": {},
   "outputs": [
    {
     "data": {
      "text/html": [
       "<div>\n",
       "<style scoped>\n",
       "    .dataframe tbody tr th:only-of-type {\n",
       "        vertical-align: middle;\n",
       "    }\n",
       "\n",
       "    .dataframe tbody tr th {\n",
       "        vertical-align: top;\n",
       "    }\n",
       "\n",
       "    .dataframe thead th {\n",
       "        text-align: right;\n",
       "    }\n",
       "</style>\n",
       "<table border=\"1\" class=\"dataframe\">\n",
       "  <thead>\n",
       "    <tr style=\"text-align: right;\">\n",
       "      <th></th>\n",
       "      <th>Num_Acc</th>\n",
       "      <th>an</th>\n",
       "      <th>mois</th>\n",
       "      <th>jour</th>\n",
       "      <th>hrmn</th>\n",
       "      <th>lum</th>\n",
       "      <th>agg</th>\n",
       "      <th>int</th>\n",
       "      <th>atm</th>\n",
       "      <th>col</th>\n",
       "      <th>com</th>\n",
       "      <th>lat</th>\n",
       "      <th>dep</th>\n",
       "    </tr>\n",
       "  </thead>\n",
       "  <tbody>\n",
       "    <tr>\n",
       "      <th>count</th>\n",
       "      <td>8.399850e+05</td>\n",
       "      <td>839985.000000</td>\n",
       "      <td>839985.000000</td>\n",
       "      <td>839985.000000</td>\n",
       "      <td>839985.000000</td>\n",
       "      <td>839985.000000</td>\n",
       "      <td>839985.000000</td>\n",
       "      <td>839985.000000</td>\n",
       "      <td>839930.000000</td>\n",
       "      <td>839974.000000</td>\n",
       "      <td>839983.000000</td>\n",
       "      <td>3.624710e+05</td>\n",
       "      <td>839985.000000</td>\n",
       "    </tr>\n",
       "    <tr>\n",
       "      <th>mean</th>\n",
       "      <td>2.010011e+11</td>\n",
       "      <td>10.011129</td>\n",
       "      <td>6.679437</td>\n",
       "      <td>15.594687</td>\n",
       "      <td>1381.093505</td>\n",
       "      <td>1.912588</td>\n",
       "      <td>1.685924</td>\n",
       "      <td>1.694066</td>\n",
       "      <td>1.547116</td>\n",
       "      <td>4.187484</td>\n",
       "      <td>186.510172</td>\n",
       "      <td>2.849715e+06</td>\n",
       "      <td>564.257671</td>\n",
       "    </tr>\n",
       "    <tr>\n",
       "      <th>std</th>\n",
       "      <td>3.458009e+08</td>\n",
       "      <td>3.458059</td>\n",
       "      <td>3.389489</td>\n",
       "      <td>8.750201</td>\n",
       "      <td>540.757462</td>\n",
       "      <td>1.517900</td>\n",
       "      <td>0.464147</td>\n",
       "      <td>1.510792</td>\n",
       "      <td>1.587668</td>\n",
       "      <td>1.974998</td>\n",
       "      <td>171.873105</td>\n",
       "      <td>2.284591e+06</td>\n",
       "      <td>291.153083</td>\n",
       "    </tr>\n",
       "    <tr>\n",
       "      <th>min</th>\n",
       "      <td>2.005000e+11</td>\n",
       "      <td>5.000000</td>\n",
       "      <td>1.000000</td>\n",
       "      <td>1.000000</td>\n",
       "      <td>1.000000</td>\n",
       "      <td>1.000000</td>\n",
       "      <td>1.000000</td>\n",
       "      <td>0.000000</td>\n",
       "      <td>1.000000</td>\n",
       "      <td>1.000000</td>\n",
       "      <td>0.000000</td>\n",
       "      <td>0.000000e+00</td>\n",
       "      <td>10.000000</td>\n",
       "    </tr>\n",
       "    <tr>\n",
       "      <th>25%</th>\n",
       "      <td>2.007000e+11</td>\n",
       "      <td>7.000000</td>\n",
       "      <td>4.000000</td>\n",
       "      <td>8.000000</td>\n",
       "      <td>1000.000000</td>\n",
       "      <td>1.000000</td>\n",
       "      <td>1.000000</td>\n",
       "      <td>1.000000</td>\n",
       "      <td>1.000000</td>\n",
       "      <td>3.000000</td>\n",
       "      <td>55.000000</td>\n",
       "      <td>0.000000e+00</td>\n",
       "      <td>310.000000</td>\n",
       "    </tr>\n",
       "    <tr>\n",
       "      <th>50%</th>\n",
       "      <td>2.010000e+11</td>\n",
       "      <td>10.000000</td>\n",
       "      <td>7.000000</td>\n",
       "      <td>15.000000</td>\n",
       "      <td>1446.000000</td>\n",
       "      <td>1.000000</td>\n",
       "      <td>2.000000</td>\n",
       "      <td>1.000000</td>\n",
       "      <td>1.000000</td>\n",
       "      <td>3.000000</td>\n",
       "      <td>118.000000</td>\n",
       "      <td>4.370200e+06</td>\n",
       "      <td>630.000000</td>\n",
       "    </tr>\n",
       "    <tr>\n",
       "      <th>75%</th>\n",
       "      <td>2.013000e+11</td>\n",
       "      <td>13.000000</td>\n",
       "      <td>10.000000</td>\n",
       "      <td>23.000000</td>\n",
       "      <td>1810.000000</td>\n",
       "      <td>3.000000</td>\n",
       "      <td>2.000000</td>\n",
       "      <td>2.000000</td>\n",
       "      <td>1.000000</td>\n",
       "      <td>6.000000</td>\n",
       "      <td>278.000000</td>\n",
       "      <td>4.799218e+06</td>\n",
       "      <td>780.000000</td>\n",
       "    </tr>\n",
       "    <tr>\n",
       "      <th>max</th>\n",
       "      <td>2.016001e+11</td>\n",
       "      <td>16.000000</td>\n",
       "      <td>12.000000</td>\n",
       "      <td>31.000000</td>\n",
       "      <td>2359.000000</td>\n",
       "      <td>5.000000</td>\n",
       "      <td>2.000000</td>\n",
       "      <td>9.000000</td>\n",
       "      <td>9.000000</td>\n",
       "      <td>7.000000</td>\n",
       "      <td>987.000000</td>\n",
       "      <td>5.564823e+06</td>\n",
       "      <td>976.000000</td>\n",
       "    </tr>\n",
       "  </tbody>\n",
       "</table>\n",
       "</div>"
      ],
      "text/plain": [
       "            Num_Acc             an           mois           jour  \\\n",
       "count  8.399850e+05  839985.000000  839985.000000  839985.000000   \n",
       "mean   2.010011e+11      10.011129       6.679437      15.594687   \n",
       "std    3.458009e+08       3.458059       3.389489       8.750201   \n",
       "min    2.005000e+11       5.000000       1.000000       1.000000   \n",
       "25%    2.007000e+11       7.000000       4.000000       8.000000   \n",
       "50%    2.010000e+11      10.000000       7.000000      15.000000   \n",
       "75%    2.013000e+11      13.000000      10.000000      23.000000   \n",
       "max    2.016001e+11      16.000000      12.000000      31.000000   \n",
       "\n",
       "                hrmn            lum            agg            int  \\\n",
       "count  839985.000000  839985.000000  839985.000000  839985.000000   \n",
       "mean     1381.093505       1.912588       1.685924       1.694066   \n",
       "std       540.757462       1.517900       0.464147       1.510792   \n",
       "min         1.000000       1.000000       1.000000       0.000000   \n",
       "25%      1000.000000       1.000000       1.000000       1.000000   \n",
       "50%      1446.000000       1.000000       2.000000       1.000000   \n",
       "75%      1810.000000       3.000000       2.000000       2.000000   \n",
       "max      2359.000000       5.000000       2.000000       9.000000   \n",
       "\n",
       "                 atm            col            com           lat  \\\n",
       "count  839930.000000  839974.000000  839983.000000  3.624710e+05   \n",
       "mean        1.547116       4.187484     186.510172  2.849715e+06   \n",
       "std         1.587668       1.974998     171.873105  2.284591e+06   \n",
       "min         1.000000       1.000000       0.000000  0.000000e+00   \n",
       "25%         1.000000       3.000000      55.000000  0.000000e+00   \n",
       "50%         1.000000       3.000000     118.000000  4.370200e+06   \n",
       "75%         1.000000       6.000000     278.000000  4.799218e+06   \n",
       "max         9.000000       7.000000     987.000000  5.564823e+06   \n",
       "\n",
       "                 dep  \n",
       "count  839985.000000  \n",
       "mean      564.257671  \n",
       "std       291.153083  \n",
       "min        10.000000  \n",
       "25%       310.000000  \n",
       "50%       630.000000  \n",
       "75%       780.000000  \n",
       "max       976.000000  "
      ]
     },
     "execution_count": 424,
     "metadata": {},
     "output_type": "execute_result"
    }
   ],
   "source": [
    "#Visualization of data\n",
    "char_df.describe()"
   ]
  },
  {
   "cell_type": "code",
   "execution_count": null,
   "metadata": {},
   "outputs": [],
   "source": []
  },
  {
   "cell_type": "markdown",
   "metadata": {},
   "source": [
    "### User Data"
   ]
  },
  {
   "cell_type": "code",
   "execution_count": 425,
   "metadata": {},
   "outputs": [
    {
     "data": {
      "text/html": [
       "<div>\n",
       "<style scoped>\n",
       "    .dataframe tbody tr th:only-of-type {\n",
       "        vertical-align: middle;\n",
       "    }\n",
       "\n",
       "    .dataframe tbody tr th {\n",
       "        vertical-align: top;\n",
       "    }\n",
       "\n",
       "    .dataframe thead th {\n",
       "        text-align: right;\n",
       "    }\n",
       "</style>\n",
       "<table border=\"1\" class=\"dataframe\">\n",
       "  <thead>\n",
       "    <tr style=\"text-align: right;\">\n",
       "      <th></th>\n",
       "      <th>Num_Acc</th>\n",
       "      <th>place</th>\n",
       "      <th>catu</th>\n",
       "      <th>grav</th>\n",
       "      <th>sexe</th>\n",
       "      <th>trajet</th>\n",
       "      <th>secu</th>\n",
       "      <th>locp</th>\n",
       "      <th>actp</th>\n",
       "      <th>etatp</th>\n",
       "      <th>an_nais</th>\n",
       "      <th>num_veh</th>\n",
       "    </tr>\n",
       "  </thead>\n",
       "  <tbody>\n",
       "    <tr>\n",
       "      <th>0</th>\n",
       "      <td>201600000001</td>\n",
       "      <td>1.0</td>\n",
       "      <td>1</td>\n",
       "      <td>1</td>\n",
       "      <td>2</td>\n",
       "      <td>0.0</td>\n",
       "      <td>11.0</td>\n",
       "      <td>0.0</td>\n",
       "      <td>0.0</td>\n",
       "      <td>0.0</td>\n",
       "      <td>1983.0</td>\n",
       "      <td>B02</td>\n",
       "    </tr>\n",
       "    <tr>\n",
       "      <th>1</th>\n",
       "      <td>201600000001</td>\n",
       "      <td>1.0</td>\n",
       "      <td>1</td>\n",
       "      <td>3</td>\n",
       "      <td>1</td>\n",
       "      <td>9.0</td>\n",
       "      <td>21.0</td>\n",
       "      <td>0.0</td>\n",
       "      <td>0.0</td>\n",
       "      <td>0.0</td>\n",
       "      <td>2001.0</td>\n",
       "      <td>A01</td>\n",
       "    </tr>\n",
       "    <tr>\n",
       "      <th>2</th>\n",
       "      <td>201600000002</td>\n",
       "      <td>1.0</td>\n",
       "      <td>1</td>\n",
       "      <td>3</td>\n",
       "      <td>1</td>\n",
       "      <td>5.0</td>\n",
       "      <td>11.0</td>\n",
       "      <td>0.0</td>\n",
       "      <td>0.0</td>\n",
       "      <td>0.0</td>\n",
       "      <td>1960.0</td>\n",
       "      <td>A01</td>\n",
       "    </tr>\n",
       "    <tr>\n",
       "      <th>3</th>\n",
       "      <td>201600000002</td>\n",
       "      <td>2.0</td>\n",
       "      <td>2</td>\n",
       "      <td>3</td>\n",
       "      <td>1</td>\n",
       "      <td>0.0</td>\n",
       "      <td>11.0</td>\n",
       "      <td>0.0</td>\n",
       "      <td>0.0</td>\n",
       "      <td>0.0</td>\n",
       "      <td>2000.0</td>\n",
       "      <td>A01</td>\n",
       "    </tr>\n",
       "    <tr>\n",
       "      <th>4</th>\n",
       "      <td>201600000002</td>\n",
       "      <td>3.0</td>\n",
       "      <td>2</td>\n",
       "      <td>3</td>\n",
       "      <td>2</td>\n",
       "      <td>0.0</td>\n",
       "      <td>11.0</td>\n",
       "      <td>0.0</td>\n",
       "      <td>0.0</td>\n",
       "      <td>0.0</td>\n",
       "      <td>1962.0</td>\n",
       "      <td>A01</td>\n",
       "    </tr>\n",
       "  </tbody>\n",
       "</table>\n",
       "</div>"
      ],
      "text/plain": [
       "        Num_Acc  place  catu  grav  sexe  trajet  secu  locp  actp  etatp  \\\n",
       "0  201600000001    1.0     1     1     2     0.0  11.0   0.0   0.0    0.0   \n",
       "1  201600000001    1.0     1     3     1     9.0  21.0   0.0   0.0    0.0   \n",
       "2  201600000002    1.0     1     3     1     5.0  11.0   0.0   0.0    0.0   \n",
       "3  201600000002    2.0     2     3     1     0.0  11.0   0.0   0.0    0.0   \n",
       "4  201600000002    3.0     2     3     2     0.0  11.0   0.0   0.0    0.0   \n",
       "\n",
       "   an_nais num_veh  \n",
       "0   1983.0     B02  \n",
       "1   2001.0     A01  \n",
       "2   1960.0     A01  \n",
       "3   2000.0     A01  \n",
       "4   1962.0     A01  "
      ]
     },
     "execution_count": 425,
     "metadata": {},
     "output_type": "execute_result"
    }
   ],
   "source": [
    "#Loading users data\n",
    "users_df = pd.read_csv(\"data/users.csv\")\n",
    "users_df.head()"
   ]
  },
  {
   "cell_type": "code",
   "execution_count": 426,
   "metadata": {},
   "outputs": [
    {
     "data": {
      "text/plain": [
       "(1876005, 12)"
      ]
     },
     "execution_count": 426,
     "metadata": {},
     "output_type": "execute_result"
    }
   ],
   "source": [
    "#shape of data\n",
    "users_df.shape"
   ]
  },
  {
   "cell_type": "markdown",
   "metadata": {},
   "source": [
    "##### There are 1876005 users ."
   ]
  },
  {
   "cell_type": "code",
   "execution_count": 427,
   "metadata": {},
   "outputs": [
    {
     "name": "stdout",
     "output_type": "stream",
     "text": [
      "<class 'pandas.core.frame.DataFrame'>\n",
      "RangeIndex: 1876005 entries, 0 to 1876004\n",
      "Data columns (total 12 columns):\n",
      " #   Column   Dtype  \n",
      "---  ------   -----  \n",
      " 0   Num_Acc  int64  \n",
      " 1   place    float64\n",
      " 2   catu     int64  \n",
      " 3   grav     int64  \n",
      " 4   sexe     int64  \n",
      " 5   trajet   float64\n",
      " 6   secu     float64\n",
      " 7   locp     float64\n",
      " 8   actp     float64\n",
      " 9   etatp    float64\n",
      " 10  an_nais  float64\n",
      " 11  num_veh  object \n",
      "dtypes: float64(7), int64(4), object(1)\n",
      "memory usage: 171.8+ MB\n"
     ]
    }
   ],
   "source": [
    "#Data types\n",
    "users_df.info()"
   ]
  },
  {
   "cell_type": "code",
   "execution_count": 428,
   "metadata": {
    "scrolled": true
   },
   "outputs": [
    {
     "data": {
      "text/html": [
       "<div>\n",
       "<style scoped>\n",
       "    .dataframe tbody tr th:only-of-type {\n",
       "        vertical-align: middle;\n",
       "    }\n",
       "\n",
       "    .dataframe tbody tr th {\n",
       "        vertical-align: top;\n",
       "    }\n",
       "\n",
       "    .dataframe thead th {\n",
       "        text-align: right;\n",
       "    }\n",
       "</style>\n",
       "<table border=\"1\" class=\"dataframe\">\n",
       "  <thead>\n",
       "    <tr style=\"text-align: right;\">\n",
       "      <th></th>\n",
       "      <th>Num_Acc</th>\n",
       "      <th>place</th>\n",
       "      <th>catu</th>\n",
       "      <th>grav</th>\n",
       "      <th>sexe</th>\n",
       "      <th>trajet</th>\n",
       "      <th>secu</th>\n",
       "      <th>locp</th>\n",
       "      <th>actp</th>\n",
       "      <th>etatp</th>\n",
       "      <th>an_nais</th>\n",
       "    </tr>\n",
       "  </thead>\n",
       "  <tbody>\n",
       "    <tr>\n",
       "      <th>count</th>\n",
       "      <td>1.876005e+06</td>\n",
       "      <td>1.775639e+06</td>\n",
       "      <td>1.876005e+06</td>\n",
       "      <td>1.876005e+06</td>\n",
       "      <td>1.876005e+06</td>\n",
       "      <td>1.875636e+06</td>\n",
       "      <td>1.832547e+06</td>\n",
       "      <td>1.874341e+06</td>\n",
       "      <td>1.874232e+06</td>\n",
       "      <td>1.874299e+06</td>\n",
       "      <td>1.873654e+06</td>\n",
       "    </tr>\n",
       "    <tr>\n",
       "      <th>mean</th>\n",
       "      <td>2.009992e+11</td>\n",
       "      <td>1.283953e+00</td>\n",
       "      <td>1.341410e+00</td>\n",
       "      <td>2.513080e+00</td>\n",
       "      <td>1.328885e+00</td>\n",
       "      <td>3.075555e+00</td>\n",
       "      <td>1.822304e+01</td>\n",
       "      <td>2.242522e-01</td>\n",
       "      <td>2.762860e-01</td>\n",
       "      <td>1.023823e-01</td>\n",
       "      <td>1.972682e+03</td>\n",
       "    </tr>\n",
       "    <tr>\n",
       "      <th>std</th>\n",
       "      <td>3.464316e+08</td>\n",
       "      <td>9.058402e-01</td>\n",
       "      <td>6.334311e-01</td>\n",
       "      <td>1.332745e+00</td>\n",
       "      <td>4.698081e-01</td>\n",
       "      <td>2.676239e+00</td>\n",
       "      <td>1.977354e+01</td>\n",
       "      <td>8.722973e-01</td>\n",
       "      <td>1.051576e+00</td>\n",
       "      <td>3.800489e-01</td>\n",
       "      <td>1.834448e+01</td>\n",
       "    </tr>\n",
       "    <tr>\n",
       "      <th>min</th>\n",
       "      <td>2.005000e+11</td>\n",
       "      <td>0.000000e+00</td>\n",
       "      <td>1.000000e+00</td>\n",
       "      <td>1.000000e+00</td>\n",
       "      <td>1.000000e+00</td>\n",
       "      <td>0.000000e+00</td>\n",
       "      <td>0.000000e+00</td>\n",
       "      <td>0.000000e+00</td>\n",
       "      <td>0.000000e+00</td>\n",
       "      <td>0.000000e+00</td>\n",
       "      <td>1.896000e+03</td>\n",
       "    </tr>\n",
       "    <tr>\n",
       "      <th>25%</th>\n",
       "      <td>2.007000e+11</td>\n",
       "      <td>1.000000e+00</td>\n",
       "      <td>1.000000e+00</td>\n",
       "      <td>1.000000e+00</td>\n",
       "      <td>1.000000e+00</td>\n",
       "      <td>0.000000e+00</td>\n",
       "      <td>1.100000e+01</td>\n",
       "      <td>0.000000e+00</td>\n",
       "      <td>0.000000e+00</td>\n",
       "      <td>0.000000e+00</td>\n",
       "      <td>1.961000e+03</td>\n",
       "    </tr>\n",
       "    <tr>\n",
       "      <th>50%</th>\n",
       "      <td>2.010000e+11</td>\n",
       "      <td>1.000000e+00</td>\n",
       "      <td>1.000000e+00</td>\n",
       "      <td>3.000000e+00</td>\n",
       "      <td>1.000000e+00</td>\n",
       "      <td>4.000000e+00</td>\n",
       "      <td>1.100000e+01</td>\n",
       "      <td>0.000000e+00</td>\n",
       "      <td>0.000000e+00</td>\n",
       "      <td>0.000000e+00</td>\n",
       "      <td>1.976000e+03</td>\n",
       "    </tr>\n",
       "    <tr>\n",
       "      <th>75%</th>\n",
       "      <td>2.013000e+11</td>\n",
       "      <td>1.000000e+00</td>\n",
       "      <td>2.000000e+00</td>\n",
       "      <td>4.000000e+00</td>\n",
       "      <td>2.000000e+00</td>\n",
       "      <td>5.000000e+00</td>\n",
       "      <td>2.100000e+01</td>\n",
       "      <td>0.000000e+00</td>\n",
       "      <td>0.000000e+00</td>\n",
       "      <td>0.000000e+00</td>\n",
       "      <td>1.987000e+03</td>\n",
       "    </tr>\n",
       "    <tr>\n",
       "      <th>max</th>\n",
       "      <td>2.016001e+11</td>\n",
       "      <td>9.000000e+00</td>\n",
       "      <td>4.000000e+00</td>\n",
       "      <td>4.000000e+00</td>\n",
       "      <td>2.000000e+00</td>\n",
       "      <td>9.000000e+00</td>\n",
       "      <td>9.300000e+01</td>\n",
       "      <td>8.000000e+00</td>\n",
       "      <td>9.000000e+00</td>\n",
       "      <td>3.000000e+00</td>\n",
       "      <td>2.016000e+03</td>\n",
       "    </tr>\n",
       "  </tbody>\n",
       "</table>\n",
       "</div>"
      ],
      "text/plain": [
       "            Num_Acc         place          catu          grav          sexe  \\\n",
       "count  1.876005e+06  1.775639e+06  1.876005e+06  1.876005e+06  1.876005e+06   \n",
       "mean   2.009992e+11  1.283953e+00  1.341410e+00  2.513080e+00  1.328885e+00   \n",
       "std    3.464316e+08  9.058402e-01  6.334311e-01  1.332745e+00  4.698081e-01   \n",
       "min    2.005000e+11  0.000000e+00  1.000000e+00  1.000000e+00  1.000000e+00   \n",
       "25%    2.007000e+11  1.000000e+00  1.000000e+00  1.000000e+00  1.000000e+00   \n",
       "50%    2.010000e+11  1.000000e+00  1.000000e+00  3.000000e+00  1.000000e+00   \n",
       "75%    2.013000e+11  1.000000e+00  2.000000e+00  4.000000e+00  2.000000e+00   \n",
       "max    2.016001e+11  9.000000e+00  4.000000e+00  4.000000e+00  2.000000e+00   \n",
       "\n",
       "             trajet          secu          locp          actp         etatp  \\\n",
       "count  1.875636e+06  1.832547e+06  1.874341e+06  1.874232e+06  1.874299e+06   \n",
       "mean   3.075555e+00  1.822304e+01  2.242522e-01  2.762860e-01  1.023823e-01   \n",
       "std    2.676239e+00  1.977354e+01  8.722973e-01  1.051576e+00  3.800489e-01   \n",
       "min    0.000000e+00  0.000000e+00  0.000000e+00  0.000000e+00  0.000000e+00   \n",
       "25%    0.000000e+00  1.100000e+01  0.000000e+00  0.000000e+00  0.000000e+00   \n",
       "50%    4.000000e+00  1.100000e+01  0.000000e+00  0.000000e+00  0.000000e+00   \n",
       "75%    5.000000e+00  2.100000e+01  0.000000e+00  0.000000e+00  0.000000e+00   \n",
       "max    9.000000e+00  9.300000e+01  8.000000e+00  9.000000e+00  3.000000e+00   \n",
       "\n",
       "            an_nais  \n",
       "count  1.873654e+06  \n",
       "mean   1.972682e+03  \n",
       "std    1.834448e+01  \n",
       "min    1.896000e+03  \n",
       "25%    1.961000e+03  \n",
       "50%    1.976000e+03  \n",
       "75%    1.987000e+03  \n",
       "max    2.016000e+03  "
      ]
     },
     "execution_count": 428,
     "metadata": {},
     "output_type": "execute_result"
    }
   ],
   "source": [
    "#Visualization of data\n",
    "users_df.describe()"
   ]
  },
  {
   "cell_type": "code",
   "execution_count": null,
   "metadata": {},
   "outputs": [],
   "source": []
  },
  {
   "cell_type": "markdown",
   "metadata": {},
   "source": [
    "### Places Data"
   ]
  },
  {
   "cell_type": "code",
   "execution_count": 429,
   "metadata": {},
   "outputs": [
    {
     "name": "stderr",
     "output_type": "stream",
     "text": [
      "C:\\Python\\capstone\\my_project\\Lib\\site-packages\\IPython\\core\\interactiveshell.py:3145: DtypeWarning: Columns (2) have mixed types.Specify dtype option on import or set low_memory=False.\n",
      "  has_raised = await self.run_ast_nodes(code_ast.body, cell_name,\n"
     ]
    },
    {
     "data": {
      "text/html": [
       "<div>\n",
       "<style scoped>\n",
       "    .dataframe tbody tr th:only-of-type {\n",
       "        vertical-align: middle;\n",
       "    }\n",
       "\n",
       "    .dataframe tbody tr th {\n",
       "        vertical-align: top;\n",
       "    }\n",
       "\n",
       "    .dataframe thead th {\n",
       "        text-align: right;\n",
       "    }\n",
       "</style>\n",
       "<table border=\"1\" class=\"dataframe\">\n",
       "  <thead>\n",
       "    <tr style=\"text-align: right;\">\n",
       "      <th></th>\n",
       "      <th>Num_Acc</th>\n",
       "      <th>catr</th>\n",
       "      <th>voie</th>\n",
       "      <th>v1</th>\n",
       "      <th>v2</th>\n",
       "      <th>circ</th>\n",
       "      <th>nbv</th>\n",
       "      <th>pr</th>\n",
       "      <th>pr1</th>\n",
       "      <th>vosp</th>\n",
       "      <th>prof</th>\n",
       "      <th>plan</th>\n",
       "      <th>lartpc</th>\n",
       "      <th>larrout</th>\n",
       "      <th>surf</th>\n",
       "      <th>infra</th>\n",
       "      <th>situ</th>\n",
       "      <th>env1</th>\n",
       "    </tr>\n",
       "  </thead>\n",
       "  <tbody>\n",
       "    <tr>\n",
       "      <th>0</th>\n",
       "      <td>201600000001</td>\n",
       "      <td>3.0</td>\n",
       "      <td>39</td>\n",
       "      <td>NaN</td>\n",
       "      <td>NaN</td>\n",
       "      <td>2.0</td>\n",
       "      <td>0.0</td>\n",
       "      <td>NaN</td>\n",
       "      <td>NaN</td>\n",
       "      <td>0.0</td>\n",
       "      <td>1.0</td>\n",
       "      <td>3.0</td>\n",
       "      <td>0.0</td>\n",
       "      <td>0.0</td>\n",
       "      <td>1.0</td>\n",
       "      <td>0.0</td>\n",
       "      <td>1.0</td>\n",
       "      <td>0.0</td>\n",
       "    </tr>\n",
       "    <tr>\n",
       "      <th>1</th>\n",
       "      <td>201600000002</td>\n",
       "      <td>3.0</td>\n",
       "      <td>39</td>\n",
       "      <td>NaN</td>\n",
       "      <td>NaN</td>\n",
       "      <td>1.0</td>\n",
       "      <td>0.0</td>\n",
       "      <td>NaN</td>\n",
       "      <td>NaN</td>\n",
       "      <td>0.0</td>\n",
       "      <td>1.0</td>\n",
       "      <td>2.0</td>\n",
       "      <td>0.0</td>\n",
       "      <td>58.0</td>\n",
       "      <td>1.0</td>\n",
       "      <td>0.0</td>\n",
       "      <td>1.0</td>\n",
       "      <td>0.0</td>\n",
       "    </tr>\n",
       "    <tr>\n",
       "      <th>2</th>\n",
       "      <td>201600000003</td>\n",
       "      <td>3.0</td>\n",
       "      <td>1</td>\n",
       "      <td>NaN</td>\n",
       "      <td>NaN</td>\n",
       "      <td>2.0</td>\n",
       "      <td>2.0</td>\n",
       "      <td>NaN</td>\n",
       "      <td>NaN</td>\n",
       "      <td>0.0</td>\n",
       "      <td>1.0</td>\n",
       "      <td>3.0</td>\n",
       "      <td>0.0</td>\n",
       "      <td>68.0</td>\n",
       "      <td>2.0</td>\n",
       "      <td>0.0</td>\n",
       "      <td>3.0</td>\n",
       "      <td>99.0</td>\n",
       "    </tr>\n",
       "    <tr>\n",
       "      <th>3</th>\n",
       "      <td>201600000004</td>\n",
       "      <td>4.0</td>\n",
       "      <td>0</td>\n",
       "      <td>NaN</td>\n",
       "      <td>NaN</td>\n",
       "      <td>2.0</td>\n",
       "      <td>0.0</td>\n",
       "      <td>NaN</td>\n",
       "      <td>NaN</td>\n",
       "      <td>0.0</td>\n",
       "      <td>1.0</td>\n",
       "      <td>1.0</td>\n",
       "      <td>0.0</td>\n",
       "      <td>0.0</td>\n",
       "      <td>1.0</td>\n",
       "      <td>0.0</td>\n",
       "      <td>1.0</td>\n",
       "      <td>99.0</td>\n",
       "    </tr>\n",
       "    <tr>\n",
       "      <th>4</th>\n",
       "      <td>201600000005</td>\n",
       "      <td>4.0</td>\n",
       "      <td>0</td>\n",
       "      <td>NaN</td>\n",
       "      <td>NaN</td>\n",
       "      <td>0.0</td>\n",
       "      <td>0.0</td>\n",
       "      <td>NaN</td>\n",
       "      <td>NaN</td>\n",
       "      <td>0.0</td>\n",
       "      <td>0.0</td>\n",
       "      <td>1.0</td>\n",
       "      <td>0.0</td>\n",
       "      <td>0.0</td>\n",
       "      <td>1.0</td>\n",
       "      <td>0.0</td>\n",
       "      <td>1.0</td>\n",
       "      <td>3.0</td>\n",
       "    </tr>\n",
       "  </tbody>\n",
       "</table>\n",
       "</div>"
      ],
      "text/plain": [
       "        Num_Acc  catr voie  v1   v2  circ  nbv  pr  pr1  vosp  prof  plan  \\\n",
       "0  201600000001   3.0   39 NaN  NaN   2.0  0.0 NaN  NaN   0.0   1.0   3.0   \n",
       "1  201600000002   3.0   39 NaN  NaN   1.0  0.0 NaN  NaN   0.0   1.0   2.0   \n",
       "2  201600000003   3.0    1 NaN  NaN   2.0  2.0 NaN  NaN   0.0   1.0   3.0   \n",
       "3  201600000004   4.0    0 NaN  NaN   2.0  0.0 NaN  NaN   0.0   1.0   1.0   \n",
       "4  201600000005   4.0    0 NaN  NaN   0.0  0.0 NaN  NaN   0.0   0.0   1.0   \n",
       "\n",
       "   lartpc  larrout  surf  infra  situ  env1  \n",
       "0     0.0      0.0   1.0    0.0   1.0   0.0  \n",
       "1     0.0     58.0   1.0    0.0   1.0   0.0  \n",
       "2     0.0     68.0   2.0    0.0   3.0  99.0  \n",
       "3     0.0      0.0   1.0    0.0   1.0  99.0  \n",
       "4     0.0      0.0   1.0    0.0   1.0   3.0  "
      ]
     },
     "execution_count": 429,
     "metadata": {},
     "output_type": "execute_result"
    }
   ],
   "source": [
    "#Loading places data\n",
    "places_df = pd.read_csv(\"data/places.csv\")\n",
    "places_df.head()\n"
   ]
  },
  {
   "cell_type": "code",
   "execution_count": 430,
   "metadata": {},
   "outputs": [
    {
     "data": {
      "text/plain": [
       "(839985, 18)"
      ]
     },
     "execution_count": 430,
     "metadata": {},
     "output_type": "execute_result"
    }
   ],
   "source": [
    "#shape of data\n",
    "places_df.shape"
   ]
  },
  {
   "cell_type": "code",
   "execution_count": 431,
   "metadata": {},
   "outputs": [
    {
     "name": "stdout",
     "output_type": "stream",
     "text": [
      "<class 'pandas.core.frame.DataFrame'>\n",
      "RangeIndex: 839985 entries, 0 to 839984\n",
      "Data columns (total 18 columns):\n",
      " #   Column   Non-Null Count   Dtype  \n",
      "---  ------   --------------   -----  \n",
      " 0   Num_Acc  839985 non-null  int64  \n",
      " 1   catr     839984 non-null  float64\n",
      " 2   voie     780914 non-null  object \n",
      " 3   v1       332816 non-null  float64\n",
      " 4   v2       33953 non-null   object \n",
      " 5   circ     839187 non-null  float64\n",
      " 6   nbv      838195 non-null  float64\n",
      " 7   pr       414770 non-null  float64\n",
      " 8   pr1      413463 non-null  float64\n",
      " 9   vosp     838345 non-null  float64\n",
      " 10  prof     838924 non-null  float64\n",
      " 11  plan     838909 non-null  float64\n",
      " 12  lartpc   830440 non-null  float64\n",
      " 13  larrout  831706 non-null  float64\n",
      " 14  surf     838968 non-null  float64\n",
      " 15  infra    838707 non-null  float64\n",
      " 16  situ     838983 non-null  float64\n",
      " 17  env1     838709 non-null  float64\n",
      "dtypes: float64(15), int64(1), object(2)\n",
      "memory usage: 115.4+ MB\n"
     ]
    }
   ],
   "source": [
    "#Data types\n",
    "places_df.info()"
   ]
  },
  {
   "cell_type": "code",
   "execution_count": 432,
   "metadata": {},
   "outputs": [
    {
     "data": {
      "text/html": [
       "<div>\n",
       "<style scoped>\n",
       "    .dataframe tbody tr th:only-of-type {\n",
       "        vertical-align: middle;\n",
       "    }\n",
       "\n",
       "    .dataframe tbody tr th {\n",
       "        vertical-align: top;\n",
       "    }\n",
       "\n",
       "    .dataframe thead th {\n",
       "        text-align: right;\n",
       "    }\n",
       "</style>\n",
       "<table border=\"1\" class=\"dataframe\">\n",
       "  <thead>\n",
       "    <tr style=\"text-align: right;\">\n",
       "      <th></th>\n",
       "      <th>Num_Acc</th>\n",
       "      <th>catr</th>\n",
       "      <th>v1</th>\n",
       "      <th>circ</th>\n",
       "      <th>nbv</th>\n",
       "      <th>pr</th>\n",
       "      <th>pr1</th>\n",
       "      <th>vosp</th>\n",
       "      <th>prof</th>\n",
       "      <th>plan</th>\n",
       "      <th>lartpc</th>\n",
       "      <th>larrout</th>\n",
       "      <th>surf</th>\n",
       "      <th>infra</th>\n",
       "      <th>situ</th>\n",
       "      <th>env1</th>\n",
       "    </tr>\n",
       "  </thead>\n",
       "  <tbody>\n",
       "    <tr>\n",
       "      <th>count</th>\n",
       "      <td>8.399850e+05</td>\n",
       "      <td>839984.000000</td>\n",
       "      <td>332816.000000</td>\n",
       "      <td>839187.000000</td>\n",
       "      <td>838195.000000</td>\n",
       "      <td>414770.000000</td>\n",
       "      <td>413463.000000</td>\n",
       "      <td>838345.000000</td>\n",
       "      <td>838924.000000</td>\n",
       "      <td>838909.000000</td>\n",
       "      <td>830440.000000</td>\n",
       "      <td>831706.000000</td>\n",
       "      <td>838968.000000</td>\n",
       "      <td>838707.000000</td>\n",
       "      <td>838983.000000</td>\n",
       "      <td>838709.000000</td>\n",
       "    </tr>\n",
       "    <tr>\n",
       "      <th>mean</th>\n",
       "      <td>2.010011e+11</td>\n",
       "      <td>3.418247</td>\n",
       "      <td>0.068575</td>\n",
       "      <td>1.855246</td>\n",
       "      <td>2.039593</td>\n",
       "      <td>109.701206</td>\n",
       "      <td>276.792763</td>\n",
       "      <td>0.130675</td>\n",
       "      <td>1.135474</td>\n",
       "      <td>1.198732</td>\n",
       "      <td>5.256996</td>\n",
       "      <td>58.389998</td>\n",
       "      <td>1.257012</td>\n",
       "      <td>0.438958</td>\n",
       "      <td>1.147201</td>\n",
       "      <td>37.916588</td>\n",
       "    </tr>\n",
       "    <tr>\n",
       "      <th>std</th>\n",
       "      <td>3.458009e+08</td>\n",
       "      <td>1.207917</td>\n",
       "      <td>0.567640</td>\n",
       "      <td>0.720949</td>\n",
       "      <td>1.550779</td>\n",
       "      <td>499.309309</td>\n",
       "      <td>357.941312</td>\n",
       "      <td>0.555434</td>\n",
       "      <td>0.620295</td>\n",
       "      <td>0.722200</td>\n",
       "      <td>21.801291</td>\n",
       "      <td>62.527755</td>\n",
       "      <td>0.954748</td>\n",
       "      <td>1.350905</td>\n",
       "      <td>0.722495</td>\n",
       "      <td>47.979898</td>\n",
       "    </tr>\n",
       "    <tr>\n",
       "      <th>min</th>\n",
       "      <td>2.005000e+11</td>\n",
       "      <td>1.000000</td>\n",
       "      <td>0.000000</td>\n",
       "      <td>0.000000</td>\n",
       "      <td>0.000000</td>\n",
       "      <td>0.000000</td>\n",
       "      <td>0.000000</td>\n",
       "      <td>0.000000</td>\n",
       "      <td>0.000000</td>\n",
       "      <td>0.000000</td>\n",
       "      <td>0.000000</td>\n",
       "      <td>-81.000000</td>\n",
       "      <td>0.000000</td>\n",
       "      <td>0.000000</td>\n",
       "      <td>0.000000</td>\n",
       "      <td>0.000000</td>\n",
       "    </tr>\n",
       "    <tr>\n",
       "      <th>25%</th>\n",
       "      <td>2.007000e+11</td>\n",
       "      <td>3.000000</td>\n",
       "      <td>0.000000</td>\n",
       "      <td>2.000000</td>\n",
       "      <td>2.000000</td>\n",
       "      <td>0.000000</td>\n",
       "      <td>0.000000</td>\n",
       "      <td>0.000000</td>\n",
       "      <td>1.000000</td>\n",
       "      <td>1.000000</td>\n",
       "      <td>0.000000</td>\n",
       "      <td>0.000000</td>\n",
       "      <td>1.000000</td>\n",
       "      <td>0.000000</td>\n",
       "      <td>1.000000</td>\n",
       "      <td>0.000000</td>\n",
       "    </tr>\n",
       "    <tr>\n",
       "      <th>50%</th>\n",
       "      <td>2.010000e+11</td>\n",
       "      <td>4.000000</td>\n",
       "      <td>0.000000</td>\n",
       "      <td>2.000000</td>\n",
       "      <td>2.000000</td>\n",
       "      <td>6.000000</td>\n",
       "      <td>100.000000</td>\n",
       "      <td>0.000000</td>\n",
       "      <td>1.000000</td>\n",
       "      <td>1.000000</td>\n",
       "      <td>0.000000</td>\n",
       "      <td>60.000000</td>\n",
       "      <td>1.000000</td>\n",
       "      <td>0.000000</td>\n",
       "      <td>1.000000</td>\n",
       "      <td>0.000000</td>\n",
       "    </tr>\n",
       "    <tr>\n",
       "      <th>75%</th>\n",
       "      <td>2.013000e+11</td>\n",
       "      <td>4.000000</td>\n",
       "      <td>0.000000</td>\n",
       "      <td>2.000000</td>\n",
       "      <td>2.000000</td>\n",
       "      <td>28.000000</td>\n",
       "      <td>500.000000</td>\n",
       "      <td>0.000000</td>\n",
       "      <td>1.000000</td>\n",
       "      <td>1.000000</td>\n",
       "      <td>0.000000</td>\n",
       "      <td>80.000000</td>\n",
       "      <td>1.000000</td>\n",
       "      <td>0.000000</td>\n",
       "      <td>1.000000</td>\n",
       "      <td>99.000000</td>\n",
       "    </tr>\n",
       "    <tr>\n",
       "      <th>max</th>\n",
       "      <td>2.016001e+11</td>\n",
       "      <td>9.000000</td>\n",
       "      <td>9.000000</td>\n",
       "      <td>4.000000</td>\n",
       "      <td>99.000000</td>\n",
       "      <td>9900.000000</td>\n",
       "      <td>9540.000000</td>\n",
       "      <td>3.000000</td>\n",
       "      <td>4.000000</td>\n",
       "      <td>4.000000</td>\n",
       "      <td>960.000000</td>\n",
       "      <td>999.000000</td>\n",
       "      <td>9.000000</td>\n",
       "      <td>7.000000</td>\n",
       "      <td>5.000000</td>\n",
       "      <td>99.000000</td>\n",
       "    </tr>\n",
       "  </tbody>\n",
       "</table>\n",
       "</div>"
      ],
      "text/plain": [
       "            Num_Acc           catr             v1           circ  \\\n",
       "count  8.399850e+05  839984.000000  332816.000000  839187.000000   \n",
       "mean   2.010011e+11       3.418247       0.068575       1.855246   \n",
       "std    3.458009e+08       1.207917       0.567640       0.720949   \n",
       "min    2.005000e+11       1.000000       0.000000       0.000000   \n",
       "25%    2.007000e+11       3.000000       0.000000       2.000000   \n",
       "50%    2.010000e+11       4.000000       0.000000       2.000000   \n",
       "75%    2.013000e+11       4.000000       0.000000       2.000000   \n",
       "max    2.016001e+11       9.000000       9.000000       4.000000   \n",
       "\n",
       "                 nbv             pr            pr1           vosp  \\\n",
       "count  838195.000000  414770.000000  413463.000000  838345.000000   \n",
       "mean        2.039593     109.701206     276.792763       0.130675   \n",
       "std         1.550779     499.309309     357.941312       0.555434   \n",
       "min         0.000000       0.000000       0.000000       0.000000   \n",
       "25%         2.000000       0.000000       0.000000       0.000000   \n",
       "50%         2.000000       6.000000     100.000000       0.000000   \n",
       "75%         2.000000      28.000000     500.000000       0.000000   \n",
       "max        99.000000    9900.000000    9540.000000       3.000000   \n",
       "\n",
       "                prof           plan         lartpc        larrout  \\\n",
       "count  838924.000000  838909.000000  830440.000000  831706.000000   \n",
       "mean        1.135474       1.198732       5.256996      58.389998   \n",
       "std         0.620295       0.722200      21.801291      62.527755   \n",
       "min         0.000000       0.000000       0.000000     -81.000000   \n",
       "25%         1.000000       1.000000       0.000000       0.000000   \n",
       "50%         1.000000       1.000000       0.000000      60.000000   \n",
       "75%         1.000000       1.000000       0.000000      80.000000   \n",
       "max         4.000000       4.000000     960.000000     999.000000   \n",
       "\n",
       "                surf          infra           situ           env1  \n",
       "count  838968.000000  838707.000000  838983.000000  838709.000000  \n",
       "mean        1.257012       0.438958       1.147201      37.916588  \n",
       "std         0.954748       1.350905       0.722495      47.979898  \n",
       "min         0.000000       0.000000       0.000000       0.000000  \n",
       "25%         1.000000       0.000000       1.000000       0.000000  \n",
       "50%         1.000000       0.000000       1.000000       0.000000  \n",
       "75%         1.000000       0.000000       1.000000      99.000000  \n",
       "max         9.000000       7.000000       5.000000      99.000000  "
      ]
     },
     "execution_count": 432,
     "metadata": {},
     "output_type": "execute_result"
    }
   ],
   "source": [
    "#Visualization of data\n",
    "places_df.describe()"
   ]
  },
  {
   "cell_type": "markdown",
   "metadata": {},
   "source": [
    "# Preprocessing Data"
   ]
  },
  {
   "cell_type": "markdown",
   "metadata": {},
   "source": [
    "## User Data\n"
   ]
  },
  {
   "cell_type": "markdown",
   "metadata": {},
   "source": [
    "* Intend is to use keep 'grav' and drop the other columns."
   ]
  },
  {
   "cell_type": "code",
   "execution_count": 433,
   "metadata": {},
   "outputs": [
    {
     "data": {
      "text/html": [
       "<div>\n",
       "<style scoped>\n",
       "    .dataframe tbody tr th:only-of-type {\n",
       "        vertical-align: middle;\n",
       "    }\n",
       "\n",
       "    .dataframe tbody tr th {\n",
       "        vertical-align: top;\n",
       "    }\n",
       "\n",
       "    .dataframe thead th {\n",
       "        text-align: right;\n",
       "    }\n",
       "</style>\n",
       "<table border=\"1\" class=\"dataframe\">\n",
       "  <thead>\n",
       "    <tr style=\"text-align: right;\">\n",
       "      <th></th>\n",
       "      <th>Num_Acc</th>\n",
       "      <th>grav</th>\n",
       "    </tr>\n",
       "  </thead>\n",
       "  <tbody>\n",
       "    <tr>\n",
       "      <th>0</th>\n",
       "      <td>201600000001</td>\n",
       "      <td>1</td>\n",
       "    </tr>\n",
       "    <tr>\n",
       "      <th>1</th>\n",
       "      <td>201600000001</td>\n",
       "      <td>3</td>\n",
       "    </tr>\n",
       "    <tr>\n",
       "      <th>2</th>\n",
       "      <td>201600000002</td>\n",
       "      <td>3</td>\n",
       "    </tr>\n",
       "    <tr>\n",
       "      <th>3</th>\n",
       "      <td>201600000002</td>\n",
       "      <td>3</td>\n",
       "    </tr>\n",
       "    <tr>\n",
       "      <th>4</th>\n",
       "      <td>201600000002</td>\n",
       "      <td>3</td>\n",
       "    </tr>\n",
       "  </tbody>\n",
       "</table>\n",
       "</div>"
      ],
      "text/plain": [
       "        Num_Acc  grav\n",
       "0  201600000001     1\n",
       "1  201600000001     3\n",
       "2  201600000002     3\n",
       "3  201600000002     3\n",
       "4  201600000002     3"
      ]
     },
     "execution_count": 433,
     "metadata": {},
     "output_type": "execute_result"
    }
   ],
   "source": [
    "#Dropping all other features\n",
    "users_df = users_df.drop([\"place\", \"catu\", \"sexe\", \"trajet\", \"secu\", \"locp\", \"actp\", \"etatp\", \"an_nais\", \"num_veh\"], axis=1)\n",
    "users_df.head()"
   ]
  },
  {
   "cell_type": "markdown",
   "metadata": {},
   "source": [
    "* Change the name 'grav' to be more understandable to everyone"
   ]
  },
  {
   "cell_type": "code",
   "execution_count": 434,
   "metadata": {},
   "outputs": [
    {
     "data": {
      "text/html": [
       "<div>\n",
       "<style scoped>\n",
       "    .dataframe tbody tr th:only-of-type {\n",
       "        vertical-align: middle;\n",
       "    }\n",
       "\n",
       "    .dataframe tbody tr th {\n",
       "        vertical-align: top;\n",
       "    }\n",
       "\n",
       "    .dataframe thead th {\n",
       "        text-align: right;\n",
       "    }\n",
       "</style>\n",
       "<table border=\"1\" class=\"dataframe\">\n",
       "  <thead>\n",
       "    <tr style=\"text-align: right;\">\n",
       "      <th></th>\n",
       "      <th>Num_Acc</th>\n",
       "      <th>severity</th>\n",
       "    </tr>\n",
       "  </thead>\n",
       "  <tbody>\n",
       "    <tr>\n",
       "      <th>count</th>\n",
       "      <td>1.876005e+06</td>\n",
       "      <td>1.876005e+06</td>\n",
       "    </tr>\n",
       "    <tr>\n",
       "      <th>mean</th>\n",
       "      <td>2.009992e+11</td>\n",
       "      <td>2.513080e+00</td>\n",
       "    </tr>\n",
       "    <tr>\n",
       "      <th>std</th>\n",
       "      <td>3.464316e+08</td>\n",
       "      <td>1.332745e+00</td>\n",
       "    </tr>\n",
       "    <tr>\n",
       "      <th>min</th>\n",
       "      <td>2.005000e+11</td>\n",
       "      <td>1.000000e+00</td>\n",
       "    </tr>\n",
       "    <tr>\n",
       "      <th>25%</th>\n",
       "      <td>2.007000e+11</td>\n",
       "      <td>1.000000e+00</td>\n",
       "    </tr>\n",
       "    <tr>\n",
       "      <th>50%</th>\n",
       "      <td>2.010000e+11</td>\n",
       "      <td>3.000000e+00</td>\n",
       "    </tr>\n",
       "    <tr>\n",
       "      <th>75%</th>\n",
       "      <td>2.013000e+11</td>\n",
       "      <td>4.000000e+00</td>\n",
       "    </tr>\n",
       "    <tr>\n",
       "      <th>max</th>\n",
       "      <td>2.016001e+11</td>\n",
       "      <td>4.000000e+00</td>\n",
       "    </tr>\n",
       "  </tbody>\n",
       "</table>\n",
       "</div>"
      ],
      "text/plain": [
       "            Num_Acc      severity\n",
       "count  1.876005e+06  1.876005e+06\n",
       "mean   2.009992e+11  2.513080e+00\n",
       "std    3.464316e+08  1.332745e+00\n",
       "min    2.005000e+11  1.000000e+00\n",
       "25%    2.007000e+11  1.000000e+00\n",
       "50%    2.010000e+11  3.000000e+00\n",
       "75%    2.013000e+11  4.000000e+00\n",
       "max    2.016001e+11  4.000000e+00"
      ]
     },
     "execution_count": 434,
     "metadata": {},
     "output_type": "execute_result"
    }
   ],
   "source": [
    "users_pd = pd.DataFrame(users_df)\n",
    "users_pd.rename(columns = {'grav':'severity'}, inplace = True) \n",
    "users_pd.describe()"
   ]
  },
  {
   "cell_type": "code",
   "execution_count": 435,
   "metadata": {},
   "outputs": [
    {
     "name": "stdout",
     "output_type": "stream",
     "text": [
      "Number of deaths:  50589\n"
     ]
    }
   ],
   "source": [
    "#Number of deaths caused by accidents from 2005_2016\n",
    "number_of_deaths = (users_pd['severity'] == 2).sum()\n",
    "print(\"Number of deaths: \", number_of_deaths )"
   ]
  },
  {
   "cell_type": "markdown",
   "metadata": {},
   "source": [
    "*Severity feature is categorical data as follows:*\n",
    "* 1: Unscathed\n",
    "* 2: Killed\n",
    "* 3: Serious injury\n",
    "* 4: Light injury"
   ]
  },
  {
   "cell_type": "markdown",
   "metadata": {},
   "source": [
    "### Plot a histogram "
   ]
  },
  {
   "cell_type": "code",
   "execution_count": 436,
   "metadata": {},
   "outputs": [
    {
     "data": {
      "text/plain": [
       "<AxesSubplot:>"
      ]
     },
     "execution_count": 436,
     "metadata": {},
     "output_type": "execute_result"
    },
    {
     "data": {
      "image/png": "[encoded data removed]",
      "text/plain": [
       "<Figure size 432x288 with 1 Axes>"
      ]
     },
     "metadata": {
      "needs_background": "light"
     },
     "output_type": "display_data"
    }
   ],
   "source": [
    "users_pd.severity.hist()"
   ]
  },
  {
   "cell_type": "markdown",
   "metadata": {},
   "source": [
    "*Transform severity feature into binary by grouping unscathed and light injury  and serious and death as follows:*\n",
    "\n",
    "*unscathed and light = 0*\n",
    "\n",
    "*seriour and killed = 1*"
   ]
  },
  {
   "cell_type": "code",
   "execution_count": 437,
   "metadata": {},
   "outputs": [
    {
     "data": {
      "text/plain": [
       "<AxesSubplot:>"
      ]
     },
     "execution_count": 437,
     "metadata": {},
     "output_type": "execute_result"
    },
    {
     "data": {
      "image/png": "[encoded data removed]",
      "text/plain": [
       "<Figure size 432x288 with 1 Axes>"
      ]
     },
     "metadata": {
      "needs_background": "light"
     },
     "output_type": "display_data"
    }
   ],
   "source": [
    "users_pd = users_pd.replace(1,0)\n",
    "users_pd = users_pd.replace(3,1)\n",
    "users_pd = users_pd.replace(4,0)\n",
    "users_pd = users_pd.replace(2,1)\n",
    "\n",
    "users_pd.severity.hist()"
   ]
  },
  {
   "cell_type": "markdown",
   "metadata": {},
   "source": [
    "#### Grouping the data"
   ]
  },
  {
   "cell_type": "code",
   "execution_count": 438,
   "metadata": {},
   "outputs": [
    {
     "data": {
      "text/plain": [
       "<AxesSubplot:>"
      ]
     },
     "execution_count": 438,
     "metadata": {},
     "output_type": "execute_result"
    },
    {
     "data": {
      "image/png": "[encoded data removed]",
      "text/plain": [
       "<Figure size 432x288 with 1 Axes>"
      ]
     },
     "metadata": {
      "needs_background": "light"
     },
     "output_type": "display_data"
    }
   ],
   "source": [
    "#Using groupby\n",
    "users_pd = users_pd.groupby(['Num_Acc'], as_index=False).max()\n",
    "users_pd.severity.hist()"
   ]
  },
  {
   "cell_type": "markdown",
   "metadata": {},
   "source": [
    "*Confirm number of instaces in the data base*"
   ]
  },
  {
   "cell_type": "code",
   "execution_count": 439,
   "metadata": {},
   "outputs": [
    {
     "data": {
      "text/plain": [
       "Num_Acc     839985\n",
       "severity    839985\n",
       "dtype: int64"
      ]
     },
     "execution_count": 439,
     "metadata": {},
     "output_type": "execute_result"
    }
   ],
   "source": [
    "users_pd.count()"
   ]
  },
  {
   "cell_type": "code",
   "execution_count": 440,
   "metadata": {},
   "outputs": [
    {
     "data": {
      "text/html": [
       "<div>\n",
       "<style scoped>\n",
       "    .dataframe tbody tr th:only-of-type {\n",
       "        vertical-align: middle;\n",
       "    }\n",
       "\n",
       "    .dataframe tbody tr th {\n",
       "        vertical-align: top;\n",
       "    }\n",
       "\n",
       "    .dataframe thead th {\n",
       "        text-align: right;\n",
       "    }\n",
       "</style>\n",
       "<table border=\"1\" class=\"dataframe\">\n",
       "  <thead>\n",
       "    <tr style=\"text-align: right;\">\n",
       "      <th></th>\n",
       "      <th>Num_Acc</th>\n",
       "      <th>severity</th>\n",
       "    </tr>\n",
       "  </thead>\n",
       "  <tbody>\n",
       "    <tr>\n",
       "      <th>0</th>\n",
       "      <td>200500000001</td>\n",
       "      <td>1</td>\n",
       "    </tr>\n",
       "    <tr>\n",
       "      <th>1</th>\n",
       "      <td>200500000002</td>\n",
       "      <td>1</td>\n",
       "    </tr>\n",
       "    <tr>\n",
       "      <th>2</th>\n",
       "      <td>200500000003</td>\n",
       "      <td>1</td>\n",
       "    </tr>\n",
       "    <tr>\n",
       "      <th>3</th>\n",
       "      <td>200500000004</td>\n",
       "      <td>1</td>\n",
       "    </tr>\n",
       "    <tr>\n",
       "      <th>4</th>\n",
       "      <td>200500000005</td>\n",
       "      <td>1</td>\n",
       "    </tr>\n",
       "    <tr>\n",
       "      <th>5</th>\n",
       "      <td>200500000006</td>\n",
       "      <td>1</td>\n",
       "    </tr>\n",
       "    <tr>\n",
       "      <th>6</th>\n",
       "      <td>200500000007</td>\n",
       "      <td>0</td>\n",
       "    </tr>\n",
       "    <tr>\n",
       "      <th>7</th>\n",
       "      <td>200500000008</td>\n",
       "      <td>1</td>\n",
       "    </tr>\n",
       "    <tr>\n",
       "      <th>8</th>\n",
       "      <td>200500000009</td>\n",
       "      <td>1</td>\n",
       "    </tr>\n",
       "    <tr>\n",
       "      <th>9</th>\n",
       "      <td>200500000010</td>\n",
       "      <td>1</td>\n",
       "    </tr>\n",
       "    <tr>\n",
       "      <th>10</th>\n",
       "      <td>200500000011</td>\n",
       "      <td>0</td>\n",
       "    </tr>\n",
       "    <tr>\n",
       "      <th>11</th>\n",
       "      <td>200500000012</td>\n",
       "      <td>0</td>\n",
       "    </tr>\n",
       "    <tr>\n",
       "      <th>12</th>\n",
       "      <td>200500000013</td>\n",
       "      <td>0</td>\n",
       "    </tr>\n",
       "    <tr>\n",
       "      <th>13</th>\n",
       "      <td>200500000014</td>\n",
       "      <td>1</td>\n",
       "    </tr>\n",
       "    <tr>\n",
       "      <th>14</th>\n",
       "      <td>200500000015</td>\n",
       "      <td>1</td>\n",
       "    </tr>\n",
       "    <tr>\n",
       "      <th>15</th>\n",
       "      <td>200500000016</td>\n",
       "      <td>1</td>\n",
       "    </tr>\n",
       "    <tr>\n",
       "      <th>16</th>\n",
       "      <td>200500000017</td>\n",
       "      <td>1</td>\n",
       "    </tr>\n",
       "    <tr>\n",
       "      <th>17</th>\n",
       "      <td>200500000018</td>\n",
       "      <td>1</td>\n",
       "    </tr>\n",
       "    <tr>\n",
       "      <th>18</th>\n",
       "      <td>200500000019</td>\n",
       "      <td>1</td>\n",
       "    </tr>\n",
       "    <tr>\n",
       "      <th>19</th>\n",
       "      <td>200500000020</td>\n",
       "      <td>0</td>\n",
       "    </tr>\n",
       "  </tbody>\n",
       "</table>\n",
       "</div>"
      ],
      "text/plain": [
       "         Num_Acc  severity\n",
       "0   200500000001         1\n",
       "1   200500000002         1\n",
       "2   200500000003         1\n",
       "3   200500000004         1\n",
       "4   200500000005         1\n",
       "5   200500000006         1\n",
       "6   200500000007         0\n",
       "7   200500000008         1\n",
       "8   200500000009         1\n",
       "9   200500000010         1\n",
       "10  200500000011         0\n",
       "11  200500000012         0\n",
       "12  200500000013         0\n",
       "13  200500000014         1\n",
       "14  200500000015         1\n",
       "15  200500000016         1\n",
       "16  200500000017         1\n",
       "17  200500000018         1\n",
       "18  200500000019         1\n",
       "19  200500000020         0"
      ]
     },
     "execution_count": 440,
     "metadata": {},
     "output_type": "execute_result"
    }
   ],
   "source": [
    "users_pd.head(20)"
   ]
  },
  {
   "cell_type": "markdown",
   "metadata": {},
   "source": [
    "## Places"
   ]
  },
  {
   "cell_type": "markdown",
   "metadata": {},
   "source": [
    "*Selecting features*"
   ]
  },
  {
   "cell_type": "markdown",
   "metadata": {},
   "source": [
    "*Keeping : road categories, traffic regime, number of traffic lanes, surface conditions, and infrastructure and drop remaining cloumns.*"
   ]
  },
  {
   "cell_type": "code",
   "execution_count": 441,
   "metadata": {},
   "outputs": [
    {
     "data": {
      "text/html": [
       "<div>\n",
       "<style scoped>\n",
       "    .dataframe tbody tr th:only-of-type {\n",
       "        vertical-align: middle;\n",
       "    }\n",
       "\n",
       "    .dataframe tbody tr th {\n",
       "        vertical-align: top;\n",
       "    }\n",
       "\n",
       "    .dataframe thead th {\n",
       "        text-align: right;\n",
       "    }\n",
       "</style>\n",
       "<table border=\"1\" class=\"dataframe\">\n",
       "  <thead>\n",
       "    <tr style=\"text-align: right;\">\n",
       "      <th></th>\n",
       "      <th>Num_Acc</th>\n",
       "      <th>catr</th>\n",
       "      <th>circ</th>\n",
       "      <th>nbv</th>\n",
       "      <th>surf</th>\n",
       "      <th>infra</th>\n",
       "    </tr>\n",
       "  </thead>\n",
       "  <tbody>\n",
       "    <tr>\n",
       "      <th>count</th>\n",
       "      <td>8.399850e+05</td>\n",
       "      <td>839984.000000</td>\n",
       "      <td>839187.000000</td>\n",
       "      <td>838195.000000</td>\n",
       "      <td>838968.000000</td>\n",
       "      <td>838707.000000</td>\n",
       "    </tr>\n",
       "    <tr>\n",
       "      <th>mean</th>\n",
       "      <td>2.010011e+11</td>\n",
       "      <td>3.418247</td>\n",
       "      <td>1.855246</td>\n",
       "      <td>2.039593</td>\n",
       "      <td>1.257012</td>\n",
       "      <td>0.438958</td>\n",
       "    </tr>\n",
       "    <tr>\n",
       "      <th>std</th>\n",
       "      <td>3.458009e+08</td>\n",
       "      <td>1.207917</td>\n",
       "      <td>0.720949</td>\n",
       "      <td>1.550779</td>\n",
       "      <td>0.954748</td>\n",
       "      <td>1.350905</td>\n",
       "    </tr>\n",
       "    <tr>\n",
       "      <th>min</th>\n",
       "      <td>2.005000e+11</td>\n",
       "      <td>1.000000</td>\n",
       "      <td>0.000000</td>\n",
       "      <td>0.000000</td>\n",
       "      <td>0.000000</td>\n",
       "      <td>0.000000</td>\n",
       "    </tr>\n",
       "    <tr>\n",
       "      <th>25%</th>\n",
       "      <td>2.007000e+11</td>\n",
       "      <td>3.000000</td>\n",
       "      <td>2.000000</td>\n",
       "      <td>2.000000</td>\n",
       "      <td>1.000000</td>\n",
       "      <td>0.000000</td>\n",
       "    </tr>\n",
       "    <tr>\n",
       "      <th>50%</th>\n",
       "      <td>2.010000e+11</td>\n",
       "      <td>4.000000</td>\n",
       "      <td>2.000000</td>\n",
       "      <td>2.000000</td>\n",
       "      <td>1.000000</td>\n",
       "      <td>0.000000</td>\n",
       "    </tr>\n",
       "    <tr>\n",
       "      <th>75%</th>\n",
       "      <td>2.013000e+11</td>\n",
       "      <td>4.000000</td>\n",
       "      <td>2.000000</td>\n",
       "      <td>2.000000</td>\n",
       "      <td>1.000000</td>\n",
       "      <td>0.000000</td>\n",
       "    </tr>\n",
       "    <tr>\n",
       "      <th>max</th>\n",
       "      <td>2.016001e+11</td>\n",
       "      <td>9.000000</td>\n",
       "      <td>4.000000</td>\n",
       "      <td>99.000000</td>\n",
       "      <td>9.000000</td>\n",
       "      <td>7.000000</td>\n",
       "    </tr>\n",
       "  </tbody>\n",
       "</table>\n",
       "</div>"
      ],
      "text/plain": [
       "            Num_Acc           catr           circ            nbv  \\\n",
       "count  8.399850e+05  839984.000000  839187.000000  838195.000000   \n",
       "mean   2.010011e+11       3.418247       1.855246       2.039593   \n",
       "std    3.458009e+08       1.207917       0.720949       1.550779   \n",
       "min    2.005000e+11       1.000000       0.000000       0.000000   \n",
       "25%    2.007000e+11       3.000000       2.000000       2.000000   \n",
       "50%    2.010000e+11       4.000000       2.000000       2.000000   \n",
       "75%    2.013000e+11       4.000000       2.000000       2.000000   \n",
       "max    2.016001e+11       9.000000       4.000000      99.000000   \n",
       "\n",
       "                surf          infra  \n",
       "count  838968.000000  838707.000000  \n",
       "mean        1.257012       0.438958  \n",
       "std         0.954748       1.350905  \n",
       "min         0.000000       0.000000  \n",
       "25%         1.000000       0.000000  \n",
       "50%         1.000000       0.000000  \n",
       "75%         1.000000       0.000000  \n",
       "max         9.000000       7.000000  "
      ]
     },
     "execution_count": 441,
     "metadata": {},
     "output_type": "execute_result"
    }
   ],
   "source": [
    "places_df = places_df.drop([\"v1\", \"voie\", \"v2\", \"pr\", \"pr1\", \"vosp\", \"prof\", \"plan\", \"lartpc\", \"larrout\", \"situ\", \"env1\"], axis=1)\n",
    "places_df.describe()"
   ]
  },
  {
   "cell_type": "markdown",
   "metadata": {},
   "source": [
    "**Explore the data**"
   ]
  },
  {
   "cell_type": "code",
   "execution_count": 442,
   "metadata": {},
   "outputs": [
    {
     "name": "stdout",
     "output_type": "stream",
     "text": [
      "<class 'pandas.core.frame.DataFrame'>\n",
      "RangeIndex: 839985 entries, 0 to 839984\n",
      "Data columns (total 6 columns):\n",
      " #   Column   Non-Null Count   Dtype  \n",
      "---  ------   --------------   -----  \n",
      " 0   Num_Acc  839985 non-null  int64  \n",
      " 1   catr     839984 non-null  float64\n",
      " 2   circ     839187 non-null  float64\n",
      " 3   nbv      838195 non-null  float64\n",
      " 4   surf     838968 non-null  float64\n",
      " 5   infra    838707 non-null  float64\n",
      "dtypes: float64(5), int64(1)\n",
      "memory usage: 38.5 MB\n"
     ]
    }
   ],
   "source": [
    "places_df.info()"
   ]
  },
  {
   "cell_type": "markdown",
   "metadata": {},
   "source": [
    "**Replacing missing values**"
   ]
  },
  {
   "cell_type": "markdown",
   "metadata": {},
   "source": [
    "*'catr' replace with the mean* "
   ]
  },
  {
   "cell_type": "code",
   "execution_count": 443,
   "metadata": {},
   "outputs": [
    {
     "data": {
      "text/plain": [
       "1"
      ]
     },
     "execution_count": 443,
     "metadata": {},
     "output_type": "execute_result"
    }
   ],
   "source": [
    "places_df[\"catr\"].isna().sum()"
   ]
  },
  {
   "cell_type": "code",
   "execution_count": 444,
   "metadata": {},
   "outputs": [
    {
     "data": {
      "text/plain": [
       "3.418247252328616"
      ]
     },
     "execution_count": 444,
     "metadata": {},
     "output_type": "execute_result"
    }
   ],
   "source": [
    "places_df[\"catr\"].mean()"
   ]
  },
  {
   "cell_type": "code",
   "execution_count": 445,
   "metadata": {},
   "outputs": [],
   "source": [
    "places_df[\"catr\"] = places_df[\"catr\"].fillna(3)"
   ]
  },
  {
   "cell_type": "code",
   "execution_count": 446,
   "metadata": {},
   "outputs": [],
   "source": [
    "places_df[\"catr\"] = places_df[\"catr\"].astype(int)"
   ]
  },
  {
   "cell_type": "markdown",
   "metadata": {},
   "source": [
    "*'circ' replace with the frequently occuring number*"
   ]
  },
  {
   "cell_type": "code",
   "execution_count": 447,
   "metadata": {},
   "outputs": [
    {
     "data": {
      "text/plain": [
       "<AxesSubplot:>"
      ]
     },
     "execution_count": 447,
     "metadata": {},
     "output_type": "execute_result"
    },
    {
     "data": {
      "image/png": "[encoded data removed]",
      "text/plain": [
       "<Figure size 432x288 with 1 Axes>"
      ]
     },
     "metadata": {
      "needs_background": "light"
     },
     "output_type": "display_data"
    }
   ],
   "source": [
    "places_df[\"circ\"].hist()"
   ]
  },
  {
   "cell_type": "code",
   "execution_count": 448,
   "metadata": {},
   "outputs": [
    {
     "data": {
      "text/plain": [
       "798"
      ]
     },
     "execution_count": 448,
     "metadata": {},
     "output_type": "execute_result"
    }
   ],
   "source": [
    "places_df[\"circ\"].isna().sum()"
   ]
  },
  {
   "cell_type": "code",
   "execution_count": 449,
   "metadata": {},
   "outputs": [
    {
     "data": {
      "text/plain": [
       "44556"
      ]
     },
     "execution_count": 449,
     "metadata": {},
     "output_type": "execute_result"
    }
   ],
   "source": [
    "(places_df[\"circ\"] == 0).sum()"
   ]
  },
  {
   "cell_type": "code",
   "execution_count": 450,
   "metadata": {},
   "outputs": [],
   "source": [
    "places_df[\"circ\"] = places_df[\"circ\"].fillna(2)\n",
    "places_df[\"circ\"] = places_df[\"circ\"].replace(0,2)\n",
    "places_df[\"circ\"] = places_df[\"circ\"].astype(int)"
   ]
  },
  {
   "cell_type": "markdown",
   "metadata": {},
   "source": [
    "*'nbv' feature*\n"
   ]
  },
  {
   "cell_type": "code",
   "execution_count": 451,
   "metadata": {},
   "outputs": [
    {
     "data": {
      "text/plain": [
       "<AxesSubplot:>"
      ]
     },
     "execution_count": 451,
     "metadata": {},
     "output_type": "execute_result"
    },
    {
     "data": {
      "image/png": "[encoded data removed]",
      "text/plain": [
       "<Figure size 432x288 with 1 Axes>"
      ]
     },
     "metadata": {
      "needs_background": "light"
     },
     "output_type": "display_data"
    }
   ],
   "source": [
    "places_df[\"nbv\"].hist()"
   ]
  },
  {
   "cell_type": "code",
   "execution_count": 452,
   "metadata": {},
   "outputs": [
    {
     "data": {
      "text/plain": [
       "1790"
      ]
     },
     "execution_count": 452,
     "metadata": {},
     "output_type": "execute_result"
    }
   ],
   "source": [
    "#Missing values of 'nbv'\n",
    "places_df[\"nbv\"].isna().sum()"
   ]
  },
  {
   "cell_type": "code",
   "execution_count": 453,
   "metadata": {},
   "outputs": [
    {
     "data": {
      "text/plain": [
       "2.0395934120341925"
      ]
     },
     "execution_count": 453,
     "metadata": {},
     "output_type": "execute_result"
    }
   ],
   "source": [
    "#Average 'nbv'\n",
    "places_df[\"nbv\"].mean()"
   ]
  },
  {
   "cell_type": "code",
   "execution_count": 454,
   "metadata": {},
   "outputs": [],
   "source": [
    "#Checking for outliers\n",
    "places_df[\"nbv\"] = places_df[\"nbv\"].where(places_df[\"nbv\"] < 6,0)"
   ]
  },
  {
   "cell_type": "code",
   "execution_count": 455,
   "metadata": {},
   "outputs": [
    {
     "data": {
      "text/plain": [
       "122899"
      ]
     },
     "execution_count": 455,
     "metadata": {},
     "output_type": "execute_result"
    }
   ],
   "source": [
    "#Checking where 'nbv' = 0\n",
    "(places_df[\"nbv\"] == 0).sum()"
   ]
  },
  {
   "cell_type": "code",
   "execution_count": 456,
   "metadata": {},
   "outputs": [
    {
     "data": {
      "text/plain": [
       "<AxesSubplot:>"
      ]
     },
     "execution_count": 456,
     "metadata": {},
     "output_type": "execute_result"
    },
    {
     "data": {
      "image/png": "[encoded data removed]",
      "text/plain": [
       "<Figure size 432x288 with 1 Axes>"
      ]
     },
     "metadata": {
      "needs_background": "light"
     },
     "output_type": "display_data"
    }
   ],
   "source": [
    "#Replacing the 0s with mean and ploting the distribution\n",
    "places_df[\"nbv\"] = places_df[\"nbv\"].fillna(2)\n",
    "places_df[\"nbv\"] = places_df[\"nbv\"].replace(0,2)\n",
    "places_df[\"nbv\"] = places_df[\"nbv\"].astype(int)\n",
    "places_df[\"nbv\"].hist()"
   ]
  },
  {
   "cell_type": "markdown",
   "metadata": {},
   "source": [
    "*'surf' feature*"
   ]
  },
  {
   "cell_type": "code",
   "execution_count": 457,
   "metadata": {},
   "outputs": [
    {
     "data": {
      "text/plain": [
       "<AxesSubplot:>"
      ]
     },
     "execution_count": 457,
     "metadata": {},
     "output_type": "execute_result"
    },
    {
     "data": {
      "image/png": "[encoded data removed]",
      "text/plain": [
       "<Figure size 432x288 with 1 Axes>"
      ]
     },
     "metadata": {
      "needs_background": "light"
     },
     "output_type": "display_data"
    }
   ],
   "source": [
    "#Explore this feature\n",
    "places_df[\"surf\"].hist()"
   ]
  },
  {
   "cell_type": "code",
   "execution_count": 458,
   "metadata": {},
   "outputs": [
    {
     "data": {
      "text/plain": [
       "1017"
      ]
     },
     "execution_count": 458,
     "metadata": {},
     "output_type": "execute_result"
    }
   ],
   "source": [
    "#Check for null vallues\n",
    "places_df[\"surf\"].isna().sum()"
   ]
  },
  {
   "cell_type": "code",
   "execution_count": 459,
   "metadata": {},
   "outputs": [
    {
     "data": {
      "text/plain": [
       "26998"
      ]
     },
     "execution_count": 459,
     "metadata": {},
     "output_type": "execute_result"
    }
   ],
   "source": [
    "#Check for 0s\n",
    "(places_df[\"surf\"] == 0).sum()"
   ]
  },
  {
   "cell_type": "code",
   "execution_count": 460,
   "metadata": {},
   "outputs": [
    {
     "data": {
      "text/plain": [
       "1.2570121864004349"
      ]
     },
     "execution_count": 460,
     "metadata": {},
     "output_type": "execute_result"
    }
   ],
   "source": [
    "#Check for average\n",
    "places_df[\"surf\"].mean()"
   ]
  },
  {
   "cell_type": "code",
   "execution_count": 461,
   "metadata": {},
   "outputs": [
    {
     "data": {
      "text/plain": [
       "652322"
      ]
     },
     "execution_count": 461,
     "metadata": {},
     "output_type": "execute_result"
    }
   ],
   "source": [
    "#Check for frequency of 1\n",
    "(places_df[\"surf\"] == 1).sum()"
   ]
  },
  {
   "cell_type": "code",
   "execution_count": 462,
   "metadata": {},
   "outputs": [],
   "source": [
    "#Replace missing values with a 1 based on frequency and mean\n",
    "places_df[\"surf\"] = places_df[\"surf\"].fillna(1)\n",
    "places_df[\"surf\"] = places_df[\"surf\"].replace(0,1)\n",
    "places_df[\"surf\"] = places_df[\"surf\"].astype(int)"
   ]
  },
  {
   "cell_type": "code",
   "execution_count": 463,
   "metadata": {},
   "outputs": [
    {
     "data": {
      "text/plain": [
       "<AxesSubplot:>"
      ]
     },
     "execution_count": 463,
     "metadata": {},
     "output_type": "execute_result"
    },
    {
     "data": {
      "image/png": "[encoded data removed]",
      "text/plain": [
       "<Figure size 432x288 with 1 Axes>"
      ]
     },
     "metadata": {
      "needs_background": "light"
     },
     "output_type": "display_data"
    }
   ],
   "source": [
    "places_df[\"surf\"].hist()"
   ]
  },
  {
   "cell_type": "markdown",
   "metadata": {},
   "source": [
    "*'infra' feature*"
   ]
  },
  {
   "cell_type": "code",
   "execution_count": 464,
   "metadata": {},
   "outputs": [
    {
     "data": {
      "text/plain": [
       "<AxesSubplot:>"
      ]
     },
     "execution_count": 464,
     "metadata": {},
     "output_type": "execute_result"
    },
    {
     "data": {
      "image/png": "[encoded data removed]",
      "text/plain": [
       "<Figure size 432x288 with 1 Axes>"
      ]
     },
     "metadata": {
      "needs_background": "light"
     },
     "output_type": "display_data"
    }
   ],
   "source": [
    "places_df[\"infra\"].hist()\n"
   ]
  },
  {
   "cell_type": "code",
   "execution_count": 465,
   "metadata": {},
   "outputs": [
    {
     "data": {
      "text/plain": [
       "747965"
      ]
     },
     "execution_count": 465,
     "metadata": {},
     "output_type": "execute_result"
    }
   ],
   "source": [
    "#Check for 0s\n",
    "(places_df[\"infra\"] == 0).sum()"
   ]
  },
  {
   "cell_type": "code",
   "execution_count": 466,
   "metadata": {},
   "outputs": [],
   "source": [
    "#Drop the feature since 90% > 0\n",
    "places_df = places_df.drop([\"infra\"], axis=1)"
   ]
  },
  {
   "cell_type": "code",
   "execution_count": 467,
   "metadata": {},
   "outputs": [
    {
     "name": "stdout",
     "output_type": "stream",
     "text": [
      "<class 'pandas.core.frame.DataFrame'>\n",
      "RangeIndex: 839985 entries, 0 to 839984\n",
      "Data columns (total 5 columns):\n",
      " #   Column   Non-Null Count   Dtype\n",
      "---  ------   --------------   -----\n",
      " 0   Num_Acc  839985 non-null  int64\n",
      " 1   catr     839985 non-null  int32\n",
      " 2   circ     839985 non-null  int32\n",
      " 3   nbv      839985 non-null  int32\n",
      " 4   surf     839985 non-null  int32\n",
      "dtypes: int32(4), int64(1)\n",
      "memory usage: 19.2 MB\n"
     ]
    }
   ],
   "source": [
    "#Checking for \"Cleanliness\"\n",
    "places_df.info()"
   ]
  },
  {
   "cell_type": "code",
   "execution_count": 468,
   "metadata": {},
   "outputs": [
    {
     "data": {
      "text/html": [
       "<div>\n",
       "<style scoped>\n",
       "    .dataframe tbody tr th:only-of-type {\n",
       "        vertical-align: middle;\n",
       "    }\n",
       "\n",
       "    .dataframe tbody tr th {\n",
       "        vertical-align: top;\n",
       "    }\n",
       "\n",
       "    .dataframe thead th {\n",
       "        text-align: right;\n",
       "    }\n",
       "</style>\n",
       "<table border=\"1\" class=\"dataframe\">\n",
       "  <thead>\n",
       "    <tr style=\"text-align: right;\">\n",
       "      <th></th>\n",
       "      <th>Num_Acc</th>\n",
       "      <th>catr</th>\n",
       "      <th>circ</th>\n",
       "      <th>nbv</th>\n",
       "      <th>surf</th>\n",
       "    </tr>\n",
       "  </thead>\n",
       "  <tbody>\n",
       "    <tr>\n",
       "      <th>count</th>\n",
       "      <td>8.399850e+05</td>\n",
       "      <td>839985.000000</td>\n",
       "      <td>839985.000000</td>\n",
       "      <td>839985.000000</td>\n",
       "      <td>839985.000000</td>\n",
       "    </tr>\n",
       "    <tr>\n",
       "      <th>mean</th>\n",
       "      <td>2.010011e+11</td>\n",
       "      <td>3.418247</td>\n",
       "      <td>1.961471</td>\n",
       "      <td>2.169398</td>\n",
       "      <td>1.288842</td>\n",
       "    </tr>\n",
       "    <tr>\n",
       "      <th>std</th>\n",
       "      <td>3.458009e+08</td>\n",
       "      <td>1.207916</td>\n",
       "      <td>0.571444</td>\n",
       "      <td>0.788149</td>\n",
       "      <td>0.927817</td>\n",
       "    </tr>\n",
       "    <tr>\n",
       "      <th>min</th>\n",
       "      <td>2.005000e+11</td>\n",
       "      <td>1.000000</td>\n",
       "      <td>1.000000</td>\n",
       "      <td>1.000000</td>\n",
       "      <td>1.000000</td>\n",
       "    </tr>\n",
       "    <tr>\n",
       "      <th>25%</th>\n",
       "      <td>2.007000e+11</td>\n",
       "      <td>3.000000</td>\n",
       "      <td>2.000000</td>\n",
       "      <td>2.000000</td>\n",
       "      <td>1.000000</td>\n",
       "    </tr>\n",
       "    <tr>\n",
       "      <th>50%</th>\n",
       "      <td>2.010000e+11</td>\n",
       "      <td>4.000000</td>\n",
       "      <td>2.000000</td>\n",
       "      <td>2.000000</td>\n",
       "      <td>1.000000</td>\n",
       "    </tr>\n",
       "    <tr>\n",
       "      <th>75%</th>\n",
       "      <td>2.013000e+11</td>\n",
       "      <td>4.000000</td>\n",
       "      <td>2.000000</td>\n",
       "      <td>2.000000</td>\n",
       "      <td>1.000000</td>\n",
       "    </tr>\n",
       "    <tr>\n",
       "      <th>max</th>\n",
       "      <td>2.016001e+11</td>\n",
       "      <td>9.000000</td>\n",
       "      <td>4.000000</td>\n",
       "      <td>5.000000</td>\n",
       "      <td>9.000000</td>\n",
       "    </tr>\n",
       "  </tbody>\n",
       "</table>\n",
       "</div>"
      ],
      "text/plain": [
       "            Num_Acc           catr           circ            nbv  \\\n",
       "count  8.399850e+05  839985.000000  839985.000000  839985.000000   \n",
       "mean   2.010011e+11       3.418247       1.961471       2.169398   \n",
       "std    3.458009e+08       1.207916       0.571444       0.788149   \n",
       "min    2.005000e+11       1.000000       1.000000       1.000000   \n",
       "25%    2.007000e+11       3.000000       2.000000       2.000000   \n",
       "50%    2.010000e+11       4.000000       2.000000       2.000000   \n",
       "75%    2.013000e+11       4.000000       2.000000       2.000000   \n",
       "max    2.016001e+11       9.000000       4.000000       5.000000   \n",
       "\n",
       "                surf  \n",
       "count  839985.000000  \n",
       "mean        1.288842  \n",
       "std         0.927817  \n",
       "min         1.000000  \n",
       "25%         1.000000  \n",
       "50%         1.000000  \n",
       "75%         1.000000  \n",
       "max         9.000000  "
      ]
     },
     "execution_count": 468,
     "metadata": {},
     "output_type": "execute_result"
    }
   ],
   "source": [
    "#Checking to see all column are in place\n",
    "places_df.describe()"
   ]
  },
  {
   "cell_type": "markdown",
   "metadata": {},
   "source": [
    "## Characteristics"
   ]
  },
  {
   "cell_type": "code",
   "execution_count": 469,
   "metadata": {},
   "outputs": [
    {
     "data": {
      "text/html": [
       "<div>\n",
       "<style scoped>\n",
       "    .dataframe tbody tr th:only-of-type {\n",
       "        vertical-align: middle;\n",
       "    }\n",
       "\n",
       "    .dataframe tbody tr th {\n",
       "        vertical-align: top;\n",
       "    }\n",
       "\n",
       "    .dataframe thead th {\n",
       "        text-align: right;\n",
       "    }\n",
       "</style>\n",
       "<table border=\"1\" class=\"dataframe\">\n",
       "  <thead>\n",
       "    <tr style=\"text-align: right;\">\n",
       "      <th></th>\n",
       "      <th>Num_Acc</th>\n",
       "      <th>an</th>\n",
       "      <th>mois</th>\n",
       "      <th>jour</th>\n",
       "      <th>hrmn</th>\n",
       "      <th>lum</th>\n",
       "      <th>agg</th>\n",
       "      <th>int</th>\n",
       "      <th>atm</th>\n",
       "      <th>col</th>\n",
       "      <th>com</th>\n",
       "      <th>lat</th>\n",
       "      <th>dep</th>\n",
       "    </tr>\n",
       "  </thead>\n",
       "  <tbody>\n",
       "    <tr>\n",
       "      <th>count</th>\n",
       "      <td>8.399850e+05</td>\n",
       "      <td>839985.000000</td>\n",
       "      <td>839985.000000</td>\n",
       "      <td>839985.000000</td>\n",
       "      <td>839985.000000</td>\n",
       "      <td>839985.000000</td>\n",
       "      <td>839985.000000</td>\n",
       "      <td>839985.000000</td>\n",
       "      <td>839930.000000</td>\n",
       "      <td>839974.000000</td>\n",
       "      <td>839983.000000</td>\n",
       "      <td>3.624710e+05</td>\n",
       "      <td>839985.000000</td>\n",
       "    </tr>\n",
       "    <tr>\n",
       "      <th>mean</th>\n",
       "      <td>2.010011e+11</td>\n",
       "      <td>10.011129</td>\n",
       "      <td>6.679437</td>\n",
       "      <td>15.594687</td>\n",
       "      <td>1381.093505</td>\n",
       "      <td>1.912588</td>\n",
       "      <td>1.685924</td>\n",
       "      <td>1.694066</td>\n",
       "      <td>1.547116</td>\n",
       "      <td>4.187484</td>\n",
       "      <td>186.510172</td>\n",
       "      <td>2.849715e+06</td>\n",
       "      <td>564.257671</td>\n",
       "    </tr>\n",
       "    <tr>\n",
       "      <th>std</th>\n",
       "      <td>3.458009e+08</td>\n",
       "      <td>3.458059</td>\n",
       "      <td>3.389489</td>\n",
       "      <td>8.750201</td>\n",
       "      <td>540.757462</td>\n",
       "      <td>1.517900</td>\n",
       "      <td>0.464147</td>\n",
       "      <td>1.510792</td>\n",
       "      <td>1.587668</td>\n",
       "      <td>1.974998</td>\n",
       "      <td>171.873105</td>\n",
       "      <td>2.284591e+06</td>\n",
       "      <td>291.153083</td>\n",
       "    </tr>\n",
       "    <tr>\n",
       "      <th>min</th>\n",
       "      <td>2.005000e+11</td>\n",
       "      <td>5.000000</td>\n",
       "      <td>1.000000</td>\n",
       "      <td>1.000000</td>\n",
       "      <td>1.000000</td>\n",
       "      <td>1.000000</td>\n",
       "      <td>1.000000</td>\n",
       "      <td>0.000000</td>\n",
       "      <td>1.000000</td>\n",
       "      <td>1.000000</td>\n",
       "      <td>0.000000</td>\n",
       "      <td>0.000000e+00</td>\n",
       "      <td>10.000000</td>\n",
       "    </tr>\n",
       "    <tr>\n",
       "      <th>25%</th>\n",
       "      <td>2.007000e+11</td>\n",
       "      <td>7.000000</td>\n",
       "      <td>4.000000</td>\n",
       "      <td>8.000000</td>\n",
       "      <td>1000.000000</td>\n",
       "      <td>1.000000</td>\n",
       "      <td>1.000000</td>\n",
       "      <td>1.000000</td>\n",
       "      <td>1.000000</td>\n",
       "      <td>3.000000</td>\n",
       "      <td>55.000000</td>\n",
       "      <td>0.000000e+00</td>\n",
       "      <td>310.000000</td>\n",
       "    </tr>\n",
       "    <tr>\n",
       "      <th>50%</th>\n",
       "      <td>2.010000e+11</td>\n",
       "      <td>10.000000</td>\n",
       "      <td>7.000000</td>\n",
       "      <td>15.000000</td>\n",
       "      <td>1446.000000</td>\n",
       "      <td>1.000000</td>\n",
       "      <td>2.000000</td>\n",
       "      <td>1.000000</td>\n",
       "      <td>1.000000</td>\n",
       "      <td>3.000000</td>\n",
       "      <td>118.000000</td>\n",
       "      <td>4.370200e+06</td>\n",
       "      <td>630.000000</td>\n",
       "    </tr>\n",
       "    <tr>\n",
       "      <th>75%</th>\n",
       "      <td>2.013000e+11</td>\n",
       "      <td>13.000000</td>\n",
       "      <td>10.000000</td>\n",
       "      <td>23.000000</td>\n",
       "      <td>1810.000000</td>\n",
       "      <td>3.000000</td>\n",
       "      <td>2.000000</td>\n",
       "      <td>2.000000</td>\n",
       "      <td>1.000000</td>\n",
       "      <td>6.000000</td>\n",
       "      <td>278.000000</td>\n",
       "      <td>4.799218e+06</td>\n",
       "      <td>780.000000</td>\n",
       "    </tr>\n",
       "    <tr>\n",
       "      <th>max</th>\n",
       "      <td>2.016001e+11</td>\n",
       "      <td>16.000000</td>\n",
       "      <td>12.000000</td>\n",
       "      <td>31.000000</td>\n",
       "      <td>2359.000000</td>\n",
       "      <td>5.000000</td>\n",
       "      <td>2.000000</td>\n",
       "      <td>9.000000</td>\n",
       "      <td>9.000000</td>\n",
       "      <td>7.000000</td>\n",
       "      <td>987.000000</td>\n",
       "      <td>5.564823e+06</td>\n",
       "      <td>976.000000</td>\n",
       "    </tr>\n",
       "  </tbody>\n",
       "</table>\n",
       "</div>"
      ],
      "text/plain": [
       "            Num_Acc             an           mois           jour  \\\n",
       "count  8.399850e+05  839985.000000  839985.000000  839985.000000   \n",
       "mean   2.010011e+11      10.011129       6.679437      15.594687   \n",
       "std    3.458009e+08       3.458059       3.389489       8.750201   \n",
       "min    2.005000e+11       5.000000       1.000000       1.000000   \n",
       "25%    2.007000e+11       7.000000       4.000000       8.000000   \n",
       "50%    2.010000e+11      10.000000       7.000000      15.000000   \n",
       "75%    2.013000e+11      13.000000      10.000000      23.000000   \n",
       "max    2.016001e+11      16.000000      12.000000      31.000000   \n",
       "\n",
       "                hrmn            lum            agg            int  \\\n",
       "count  839985.000000  839985.000000  839985.000000  839985.000000   \n",
       "mean     1381.093505       1.912588       1.685924       1.694066   \n",
       "std       540.757462       1.517900       0.464147       1.510792   \n",
       "min         1.000000       1.000000       1.000000       0.000000   \n",
       "25%      1000.000000       1.000000       1.000000       1.000000   \n",
       "50%      1446.000000       1.000000       2.000000       1.000000   \n",
       "75%      1810.000000       3.000000       2.000000       2.000000   \n",
       "max      2359.000000       5.000000       2.000000       9.000000   \n",
       "\n",
       "                 atm            col            com           lat  \\\n",
       "count  839930.000000  839974.000000  839983.000000  3.624710e+05   \n",
       "mean        1.547116       4.187484     186.510172  2.849715e+06   \n",
       "std         1.587668       1.974998     171.873105  2.284591e+06   \n",
       "min         1.000000       1.000000       0.000000  0.000000e+00   \n",
       "25%         1.000000       3.000000      55.000000  0.000000e+00   \n",
       "50%         1.000000       3.000000     118.000000  4.370200e+06   \n",
       "75%         1.000000       6.000000     278.000000  4.799218e+06   \n",
       "max         9.000000       7.000000     987.000000  5.564823e+06   \n",
       "\n",
       "                 dep  \n",
       "count  839985.000000  \n",
       "mean      564.257671  \n",
       "std       291.153083  \n",
       "min        10.000000  \n",
       "25%       310.000000  \n",
       "50%       630.000000  \n",
       "75%       780.000000  \n",
       "max       976.000000  "
      ]
     },
     "execution_count": 469,
     "metadata": {},
     "output_type": "execute_result"
    }
   ],
   "source": [
    "#Checking the columns\n",
    "char_df.describe()"
   ]
  },
  {
   "cell_type": "markdown",
   "metadata": {},
   "source": [
    "**Keep month, day of the month, time, agglomeration, intersection, atmospheric condition and department and drop the rest**"
   ]
  },
  {
   "cell_type": "code",
   "execution_count": 470,
   "metadata": {},
   "outputs": [
    {
     "data": {
      "text/html": [
       "<div>\n",
       "<style scoped>\n",
       "    .dataframe tbody tr th:only-of-type {\n",
       "        vertical-align: middle;\n",
       "    }\n",
       "\n",
       "    .dataframe tbody tr th {\n",
       "        vertical-align: top;\n",
       "    }\n",
       "\n",
       "    .dataframe thead th {\n",
       "        text-align: right;\n",
       "    }\n",
       "</style>\n",
       "<table border=\"1\" class=\"dataframe\">\n",
       "  <thead>\n",
       "    <tr style=\"text-align: right;\">\n",
       "      <th></th>\n",
       "      <th>Num_Acc</th>\n",
       "      <th>mois</th>\n",
       "      <th>jour</th>\n",
       "      <th>hrmn</th>\n",
       "      <th>lum</th>\n",
       "      <th>agg</th>\n",
       "      <th>int</th>\n",
       "      <th>atm</th>\n",
       "      <th>dep</th>\n",
       "    </tr>\n",
       "  </thead>\n",
       "  <tbody>\n",
       "    <tr>\n",
       "      <th>count</th>\n",
       "      <td>8.399850e+05</td>\n",
       "      <td>839985.000000</td>\n",
       "      <td>839985.000000</td>\n",
       "      <td>839985.000000</td>\n",
       "      <td>839985.000000</td>\n",
       "      <td>839985.000000</td>\n",
       "      <td>839985.000000</td>\n",
       "      <td>839930.000000</td>\n",
       "      <td>839985.000000</td>\n",
       "    </tr>\n",
       "    <tr>\n",
       "      <th>mean</th>\n",
       "      <td>2.010011e+11</td>\n",
       "      <td>6.679437</td>\n",
       "      <td>15.594687</td>\n",
       "      <td>1381.093505</td>\n",
       "      <td>1.912588</td>\n",
       "      <td>1.685924</td>\n",
       "      <td>1.694066</td>\n",
       "      <td>1.547116</td>\n",
       "      <td>564.257671</td>\n",
       "    </tr>\n",
       "    <tr>\n",
       "      <th>std</th>\n",
       "      <td>3.458009e+08</td>\n",
       "      <td>3.389489</td>\n",
       "      <td>8.750201</td>\n",
       "      <td>540.757462</td>\n",
       "      <td>1.517900</td>\n",
       "      <td>0.464147</td>\n",
       "      <td>1.510792</td>\n",
       "      <td>1.587668</td>\n",
       "      <td>291.153083</td>\n",
       "    </tr>\n",
       "    <tr>\n",
       "      <th>min</th>\n",
       "      <td>2.005000e+11</td>\n",
       "      <td>1.000000</td>\n",
       "      <td>1.000000</td>\n",
       "      <td>1.000000</td>\n",
       "      <td>1.000000</td>\n",
       "      <td>1.000000</td>\n",
       "      <td>0.000000</td>\n",
       "      <td>1.000000</td>\n",
       "      <td>10.000000</td>\n",
       "    </tr>\n",
       "    <tr>\n",
       "      <th>25%</th>\n",
       "      <td>2.007000e+11</td>\n",
       "      <td>4.000000</td>\n",
       "      <td>8.000000</td>\n",
       "      <td>1000.000000</td>\n",
       "      <td>1.000000</td>\n",
       "      <td>1.000000</td>\n",
       "      <td>1.000000</td>\n",
       "      <td>1.000000</td>\n",
       "      <td>310.000000</td>\n",
       "    </tr>\n",
       "    <tr>\n",
       "      <th>50%</th>\n",
       "      <td>2.010000e+11</td>\n",
       "      <td>7.000000</td>\n",
       "      <td>15.000000</td>\n",
       "      <td>1446.000000</td>\n",
       "      <td>1.000000</td>\n",
       "      <td>2.000000</td>\n",
       "      <td>1.000000</td>\n",
       "      <td>1.000000</td>\n",
       "      <td>630.000000</td>\n",
       "    </tr>\n",
       "    <tr>\n",
       "      <th>75%</th>\n",
       "      <td>2.013000e+11</td>\n",
       "      <td>10.000000</td>\n",
       "      <td>23.000000</td>\n",
       "      <td>1810.000000</td>\n",
       "      <td>3.000000</td>\n",
       "      <td>2.000000</td>\n",
       "      <td>2.000000</td>\n",
       "      <td>1.000000</td>\n",
       "      <td>780.000000</td>\n",
       "    </tr>\n",
       "    <tr>\n",
       "      <th>max</th>\n",
       "      <td>2.016001e+11</td>\n",
       "      <td>12.000000</td>\n",
       "      <td>31.000000</td>\n",
       "      <td>2359.000000</td>\n",
       "      <td>5.000000</td>\n",
       "      <td>2.000000</td>\n",
       "      <td>9.000000</td>\n",
       "      <td>9.000000</td>\n",
       "      <td>976.000000</td>\n",
       "    </tr>\n",
       "  </tbody>\n",
       "</table>\n",
       "</div>"
      ],
      "text/plain": [
       "            Num_Acc           mois           jour           hrmn  \\\n",
       "count  8.399850e+05  839985.000000  839985.000000  839985.000000   \n",
       "mean   2.010011e+11       6.679437      15.594687    1381.093505   \n",
       "std    3.458009e+08       3.389489       8.750201     540.757462   \n",
       "min    2.005000e+11       1.000000       1.000000       1.000000   \n",
       "25%    2.007000e+11       4.000000       8.000000    1000.000000   \n",
       "50%    2.010000e+11       7.000000      15.000000    1446.000000   \n",
       "75%    2.013000e+11      10.000000      23.000000    1810.000000   \n",
       "max    2.016001e+11      12.000000      31.000000    2359.000000   \n",
       "\n",
       "                 lum            agg            int            atm  \\\n",
       "count  839985.000000  839985.000000  839985.000000  839930.000000   \n",
       "mean        1.912588       1.685924       1.694066       1.547116   \n",
       "std         1.517900       0.464147       1.510792       1.587668   \n",
       "min         1.000000       1.000000       0.000000       1.000000   \n",
       "25%         1.000000       1.000000       1.000000       1.000000   \n",
       "50%         1.000000       2.000000       1.000000       1.000000   \n",
       "75%         3.000000       2.000000       2.000000       1.000000   \n",
       "max         5.000000       2.000000       9.000000       9.000000   \n",
       "\n",
       "                 dep  \n",
       "count  839985.000000  \n",
       "mean      564.257671  \n",
       "std       291.153083  \n",
       "min        10.000000  \n",
       "25%       310.000000  \n",
       "50%       630.000000  \n",
       "75%       780.000000  \n",
       "max       976.000000  "
      ]
     },
     "execution_count": 470,
     "metadata": {},
     "output_type": "execute_result"
    }
   ],
   "source": [
    "#Dropping columns\n",
    "char_df = char_df.drop([\"an\", \"col\", \"com\", \"adr\", \"gps\", \"lat\", \"long\"], axis=1)\n",
    "char_df.describe()"
   ]
  },
  {
   "cell_type": "code",
   "execution_count": 471,
   "metadata": {},
   "outputs": [
    {
     "name": "stdout",
     "output_type": "stream",
     "text": [
      "<class 'pandas.core.frame.DataFrame'>\n",
      "RangeIndex: 839985 entries, 0 to 839984\n",
      "Data columns (total 9 columns):\n",
      " #   Column   Non-Null Count   Dtype  \n",
      "---  ------   --------------   -----  \n",
      " 0   Num_Acc  839985 non-null  int64  \n",
      " 1   mois     839985 non-null  int64  \n",
      " 2   jour     839985 non-null  int64  \n",
      " 3   hrmn     839985 non-null  int64  \n",
      " 4   lum      839985 non-null  int64  \n",
      " 5   agg      839985 non-null  int64  \n",
      " 6   int      839985 non-null  int64  \n",
      " 7   atm      839930 non-null  float64\n",
      " 8   dep      839985 non-null  int64  \n",
      "dtypes: float64(1), int64(8)\n",
      "memory usage: 57.7 MB\n"
     ]
    }
   ],
   "source": [
    "#Checking data info\n",
    "char_df.info()"
   ]
  },
  {
   "cell_type": "markdown",
   "metadata": {},
   "source": [
    "**Clean row 7 & 8**"
   ]
  },
  {
   "cell_type": "markdown",
   "metadata": {},
   "source": [
    "**\"atm\" feature**"
   ]
  },
  {
   "cell_type": "code",
   "execution_count": 472,
   "metadata": {},
   "outputs": [
    {
     "name": "stdout",
     "output_type": "stream",
     "text": [
      "Number of missing values: 55\n"
     ]
    }
   ],
   "source": [
    "#Missing values\n",
    "char_df[\"atm\"].isna().sum()\n",
    "print(f\"Number of missing values: {char_df['atm'].isna().sum()}\")"
   ]
  },
  {
   "cell_type": "code",
   "execution_count": 473,
   "metadata": {},
   "outputs": [
    {
     "name": "stdout",
     "output_type": "stream",
     "text": [
      "Number of missing values is: 0\n"
     ]
    }
   ],
   "source": [
    "#Replace with the most frequent number\n",
    "char_df[\"atm\"] = char_df[\"atm\"].fillna(1)\n",
    "char_df[\"atm\"] = char_df[\"atm\"].astype(int)\n",
    "print(f\"Number of missing values is: {char_df['atm'].isna().sum()}\")"
   ]
  },
  {
   "cell_type": "markdown",
   "metadata": {},
   "source": [
    "**\"int\" feature**"
   ]
  },
  {
   "cell_type": "code",
   "execution_count": 474,
   "metadata": {},
   "outputs": [
    {
     "name": "stdout",
     "output_type": "stream",
     "text": [
      "Number of missing values: 106\n"
     ]
    }
   ],
   "source": [
    "#Missing values\n",
    "(char_df[\"int\"]== 0).sum()\n",
    "print(f\"Number of missing values: {(char_df['int']==0).sum()}\")"
   ]
  },
  {
   "cell_type": "code",
   "execution_count": 475,
   "metadata": {},
   "outputs": [
    {
     "name": "stdout",
     "output_type": "stream",
     "text": [
      "Number of missing values: 0\n"
     ]
    }
   ],
   "source": [
    "#Replace missing values with 1 which is the most frequently observed\n",
    "char_df[\"int\"] = char_df[\"int\"].replace(0,1)\n",
    "print(f\"Number of missing values: {(char_df['int']==0).sum()}\")"
   ]
  },
  {
   "cell_type": "markdown",
   "metadata": {},
   "source": [
    "**\"hrmn\" feature**"
   ]
  },
  {
   "cell_type": "code",
   "execution_count": 476,
   "metadata": {},
   "outputs": [],
   "source": [
    "#We use just hour for this and not minutes\n",
    "char_df[\"hrmn\"] = char_df[\"hrmn\"].div(100).apply(np.floor)\n",
    "char_df[\"hrmn\"] = char_df[\"hrmn\"].astype(int)"
   ]
  },
  {
   "cell_type": "code",
   "execution_count": 477,
   "metadata": {},
   "outputs": [
    {
     "data": {
      "text/plain": [
       "<AxesSubplot:>"
      ]
     },
     "execution_count": 477,
     "metadata": {},
     "output_type": "execute_result"
    },
    {
     "data": {
      "image/png": "[encoded data removed]",
      "text/plain": [
       "<Figure size 432x288 with 1 Axes>"
      ]
     },
     "metadata": {
      "needs_background": "light"
     },
     "output_type": "display_data"
    }
   ],
   "source": [
    "#Plot a histogram to obeserve distribution\n",
    "char_df[\"hrmn\"].hist()"
   ]
  },
  {
   "cell_type": "markdown",
   "metadata": {},
   "source": [
    "**\"dep\" feature**"
   ]
  },
  {
   "cell_type": "code",
   "execution_count": 478,
   "metadata": {},
   "outputs": [
    {
     "name": "stdout",
     "output_type": "stream",
     "text": [
      "<class 'pandas.core.frame.DataFrame'>\n",
      "RangeIndex: 839985 entries, 0 to 839984\n",
      "Data columns (total 9 columns):\n",
      " #   Column   Non-Null Count   Dtype  \n",
      "---  ------   --------------   -----  \n",
      " 0   Num_Acc  839985 non-null  int64  \n",
      " 1   mois     839985 non-null  int64  \n",
      " 2   jour     839985 non-null  int64  \n",
      " 3   hrmn     839985 non-null  int32  \n",
      " 4   lum      839985 non-null  int64  \n",
      " 5   agg      839985 non-null  int64  \n",
      " 6   int      839985 non-null  int64  \n",
      " 7   atm      839985 non-null  int32  \n",
      " 8   dep      839985 non-null  float64\n",
      "dtypes: float64(1), int32(2), int64(6)\n",
      "memory usage: 51.3 MB\n"
     ]
    }
   ],
   "source": [
    "#Skip precision and keep the department on a range 1 to 97 with 2 digits\n",
    "char_df[\"dep\"] = char_df[\"dep\"].div(10).apply(np.floor)\n",
    "char_df[\"hrmn\"] = char_df[\"hrmn\"].astype(int)\n",
    "char_df.info()"
   ]
  },
  {
   "cell_type": "markdown",
   "metadata": {},
   "source": [
    "**Data can be merged now that is clean.**"
   ]
  },
  {
   "cell_type": "code",
   "execution_count": 479,
   "metadata": {},
   "outputs": [
    {
     "data": {
      "text/html": [
       "<div>\n",
       "<style scoped>\n",
       "    .dataframe tbody tr th:only-of-type {\n",
       "        vertical-align: middle;\n",
       "    }\n",
       "\n",
       "    .dataframe tbody tr th {\n",
       "        vertical-align: top;\n",
       "    }\n",
       "\n",
       "    .dataframe thead th {\n",
       "        text-align: right;\n",
       "    }\n",
       "</style>\n",
       "<table border=\"1\" class=\"dataframe\">\n",
       "  <thead>\n",
       "    <tr style=\"text-align: right;\">\n",
       "      <th></th>\n",
       "      <th>Num_Acc</th>\n",
       "      <th>mois</th>\n",
       "      <th>jour</th>\n",
       "      <th>hrmn</th>\n",
       "      <th>lum</th>\n",
       "      <th>agg</th>\n",
       "      <th>int</th>\n",
       "      <th>atm</th>\n",
       "      <th>dep</th>\n",
       "      <th>catr</th>\n",
       "      <th>circ</th>\n",
       "      <th>nbv</th>\n",
       "      <th>surf</th>\n",
       "    </tr>\n",
       "  </thead>\n",
       "  <tbody>\n",
       "    <tr>\n",
       "      <th>count</th>\n",
       "      <td>8.399850e+05</td>\n",
       "      <td>839985.000000</td>\n",
       "      <td>839985.000000</td>\n",
       "      <td>839985.000000</td>\n",
       "      <td>839985.000000</td>\n",
       "      <td>839985.000000</td>\n",
       "      <td>839985.000000</td>\n",
       "      <td>839985.000000</td>\n",
       "      <td>839985.000000</td>\n",
       "      <td>839985.000000</td>\n",
       "      <td>839985.000000</td>\n",
       "      <td>839985.000000</td>\n",
       "      <td>839985.000000</td>\n",
       "    </tr>\n",
       "    <tr>\n",
       "      <th>mean</th>\n",
       "      <td>2.010011e+11</td>\n",
       "      <td>6.679437</td>\n",
       "      <td>15.594687</td>\n",
       "      <td>13.559365</td>\n",
       "      <td>1.912588</td>\n",
       "      <td>1.685924</td>\n",
       "      <td>1.694192</td>\n",
       "      <td>1.547080</td>\n",
       "      <td>56.416155</td>\n",
       "      <td>3.418247</td>\n",
       "      <td>1.961471</td>\n",
       "      <td>2.169398</td>\n",
       "      <td>1.288842</td>\n",
       "    </tr>\n",
       "    <tr>\n",
       "      <th>std</th>\n",
       "      <td>3.458009e+08</td>\n",
       "      <td>3.389489</td>\n",
       "      <td>8.750201</td>\n",
       "      <td>5.411096</td>\n",
       "      <td>1.517900</td>\n",
       "      <td>0.464147</td>\n",
       "      <td>1.510692</td>\n",
       "      <td>1.587622</td>\n",
       "      <td>29.105356</td>\n",
       "      <td>1.207916</td>\n",
       "      <td>0.571444</td>\n",
       "      <td>0.788149</td>\n",
       "      <td>0.927817</td>\n",
       "    </tr>\n",
       "    <tr>\n",
       "      <th>min</th>\n",
       "      <td>2.005000e+11</td>\n",
       "      <td>1.000000</td>\n",
       "      <td>1.000000</td>\n",
       "      <td>0.000000</td>\n",
       "      <td>1.000000</td>\n",
       "      <td>1.000000</td>\n",
       "      <td>1.000000</td>\n",
       "      <td>1.000000</td>\n",
       "      <td>1.000000</td>\n",
       "      <td>1.000000</td>\n",
       "      <td>1.000000</td>\n",
       "      <td>1.000000</td>\n",
       "      <td>1.000000</td>\n",
       "    </tr>\n",
       "    <tr>\n",
       "      <th>25%</th>\n",
       "      <td>2.007000e+11</td>\n",
       "      <td>4.000000</td>\n",
       "      <td>8.000000</td>\n",
       "      <td>10.000000</td>\n",
       "      <td>1.000000</td>\n",
       "      <td>1.000000</td>\n",
       "      <td>1.000000</td>\n",
       "      <td>1.000000</td>\n",
       "      <td>31.000000</td>\n",
       "      <td>3.000000</td>\n",
       "      <td>2.000000</td>\n",
       "      <td>2.000000</td>\n",
       "      <td>1.000000</td>\n",
       "    </tr>\n",
       "    <tr>\n",
       "      <th>50%</th>\n",
       "      <td>2.010000e+11</td>\n",
       "      <td>7.000000</td>\n",
       "      <td>15.000000</td>\n",
       "      <td>14.000000</td>\n",
       "      <td>1.000000</td>\n",
       "      <td>2.000000</td>\n",
       "      <td>1.000000</td>\n",
       "      <td>1.000000</td>\n",
       "      <td>63.000000</td>\n",
       "      <td>4.000000</td>\n",
       "      <td>2.000000</td>\n",
       "      <td>2.000000</td>\n",
       "      <td>1.000000</td>\n",
       "    </tr>\n",
       "    <tr>\n",
       "      <th>75%</th>\n",
       "      <td>2.013000e+11</td>\n",
       "      <td>10.000000</td>\n",
       "      <td>23.000000</td>\n",
       "      <td>18.000000</td>\n",
       "      <td>3.000000</td>\n",
       "      <td>2.000000</td>\n",
       "      <td>2.000000</td>\n",
       "      <td>1.000000</td>\n",
       "      <td>78.000000</td>\n",
       "      <td>4.000000</td>\n",
       "      <td>2.000000</td>\n",
       "      <td>2.000000</td>\n",
       "      <td>1.000000</td>\n",
       "    </tr>\n",
       "    <tr>\n",
       "      <th>max</th>\n",
       "      <td>2.016001e+11</td>\n",
       "      <td>12.000000</td>\n",
       "      <td>31.000000</td>\n",
       "      <td>23.000000</td>\n",
       "      <td>5.000000</td>\n",
       "      <td>2.000000</td>\n",
       "      <td>9.000000</td>\n",
       "      <td>9.000000</td>\n",
       "      <td>97.000000</td>\n",
       "      <td>9.000000</td>\n",
       "      <td>4.000000</td>\n",
       "      <td>5.000000</td>\n",
       "      <td>9.000000</td>\n",
       "    </tr>\n",
       "  </tbody>\n",
       "</table>\n",
       "</div>"
      ],
      "text/plain": [
       "            Num_Acc           mois           jour           hrmn  \\\n",
       "count  8.399850e+05  839985.000000  839985.000000  839985.000000   \n",
       "mean   2.010011e+11       6.679437      15.594687      13.559365   \n",
       "std    3.458009e+08       3.389489       8.750201       5.411096   \n",
       "min    2.005000e+11       1.000000       1.000000       0.000000   \n",
       "25%    2.007000e+11       4.000000       8.000000      10.000000   \n",
       "50%    2.010000e+11       7.000000      15.000000      14.000000   \n",
       "75%    2.013000e+11      10.000000      23.000000      18.000000   \n",
       "max    2.016001e+11      12.000000      31.000000      23.000000   \n",
       "\n",
       "                 lum            agg            int            atm  \\\n",
       "count  839985.000000  839985.000000  839985.000000  839985.000000   \n",
       "mean        1.912588       1.685924       1.694192       1.547080   \n",
       "std         1.517900       0.464147       1.510692       1.587622   \n",
       "min         1.000000       1.000000       1.000000       1.000000   \n",
       "25%         1.000000       1.000000       1.000000       1.000000   \n",
       "50%         1.000000       2.000000       1.000000       1.000000   \n",
       "75%         3.000000       2.000000       2.000000       1.000000   \n",
       "max         5.000000       2.000000       9.000000       9.000000   \n",
       "\n",
       "                 dep           catr           circ            nbv  \\\n",
       "count  839985.000000  839985.000000  839985.000000  839985.000000   \n",
       "mean       56.416155       3.418247       1.961471       2.169398   \n",
       "std        29.105356       1.207916       0.571444       0.788149   \n",
       "min         1.000000       1.000000       1.000000       1.000000   \n",
       "25%        31.000000       3.000000       2.000000       2.000000   \n",
       "50%        63.000000       4.000000       2.000000       2.000000   \n",
       "75%        78.000000       4.000000       2.000000       2.000000   \n",
       "max        97.000000       9.000000       4.000000       5.000000   \n",
       "\n",
       "                surf  \n",
       "count  839985.000000  \n",
       "mean        1.288842  \n",
       "std         0.927817  \n",
       "min         1.000000  \n",
       "25%         1.000000  \n",
       "50%         1.000000  \n",
       "75%         1.000000  \n",
       "max         9.000000  "
      ]
     },
     "execution_count": 479,
     "metadata": {},
     "output_type": "execute_result"
    }
   ],
   "source": [
    "#Merging char_df and places_df with Num_Acc as the primary key\n",
    "mergedata = pd.merge(char_df, places_df, how=\"outer\", on=\"Num_Acc\")\n",
    "mergedata.describe()"
   ]
  },
  {
   "cell_type": "code",
   "execution_count": 480,
   "metadata": {},
   "outputs": [],
   "source": [
    "#Merging char_df and users_df with Num_Acc as the primary key\n",
    "data_df = pd.merge(mergedata, users_pd, how=\"outer\", on=\"Num_Acc\")\n"
   ]
  },
  {
   "cell_type": "code",
   "execution_count": 481,
   "metadata": {},
   "outputs": [],
   "source": [
    "# Drop Num_Acc that is not useful for prediction\n",
    "data_df = data_df.drop(\"Num_Acc\", axis=1)"
   ]
  },
  {
   "cell_type": "code",
   "execution_count": 482,
   "metadata": {},
   "outputs": [
    {
     "name": "stdout",
     "output_type": "stream",
     "text": [
      "<class 'pandas.core.frame.DataFrame'>\n",
      "Int64Index: 839985 entries, 0 to 839984\n",
      "Data columns (total 13 columns):\n",
      " #   Column    Non-Null Count   Dtype  \n",
      "---  ------    --------------   -----  \n",
      " 0   mois      839985 non-null  int64  \n",
      " 1   jour      839985 non-null  int64  \n",
      " 2   hrmn      839985 non-null  int32  \n",
      " 3   lum       839985 non-null  int64  \n",
      " 4   agg       839985 non-null  int64  \n",
      " 5   int       839985 non-null  int64  \n",
      " 6   atm       839985 non-null  int32  \n",
      " 7   dep       839985 non-null  float64\n",
      " 8   catr      839985 non-null  int32  \n",
      " 9   circ      839985 non-null  int32  \n",
      " 10  nbv       839985 non-null  int32  \n",
      " 11  surf      839985 non-null  int32  \n",
      " 12  severity  839985 non-null  int64  \n",
      "dtypes: float64(1), int32(6), int64(6)\n",
      "memory usage: 70.5 MB\n"
     ]
    }
   ],
   "source": [
    "data_df.info()"
   ]
  },
  {
   "cell_type": "code",
   "execution_count": 483,
   "metadata": {},
   "outputs": [
    {
     "data": {
      "text/html": [
       "<div>\n",
       "<style scoped>\n",
       "    .dataframe tbody tr th:only-of-type {\n",
       "        vertical-align: middle;\n",
       "    }\n",
       "\n",
       "    .dataframe tbody tr th {\n",
       "        vertical-align: top;\n",
       "    }\n",
       "\n",
       "    .dataframe thead th {\n",
       "        text-align: right;\n",
       "    }\n",
       "</style>\n",
       "<table border=\"1\" class=\"dataframe\">\n",
       "  <thead>\n",
       "    <tr style=\"text-align: right;\">\n",
       "      <th></th>\n",
       "      <th>mois</th>\n",
       "      <th>jour</th>\n",
       "      <th>hrmn</th>\n",
       "      <th>lum</th>\n",
       "      <th>agg</th>\n",
       "      <th>int</th>\n",
       "      <th>atm</th>\n",
       "      <th>dep</th>\n",
       "      <th>catr</th>\n",
       "      <th>circ</th>\n",
       "      <th>nbv</th>\n",
       "      <th>surf</th>\n",
       "      <th>severity</th>\n",
       "    </tr>\n",
       "  </thead>\n",
       "  <tbody>\n",
       "    <tr>\n",
       "      <th>count</th>\n",
       "      <td>839985.000000</td>\n",
       "      <td>839985.000000</td>\n",
       "      <td>839985.000000</td>\n",
       "      <td>839985.000000</td>\n",
       "      <td>839985.000000</td>\n",
       "      <td>839985.000000</td>\n",
       "      <td>839985.000000</td>\n",
       "      <td>839985.000000</td>\n",
       "      <td>839985.000000</td>\n",
       "      <td>839985.000000</td>\n",
       "      <td>839985.000000</td>\n",
       "      <td>839985.000000</td>\n",
       "      <td>839985.000000</td>\n",
       "    </tr>\n",
       "    <tr>\n",
       "      <th>mean</th>\n",
       "      <td>6.679437</td>\n",
       "      <td>15.594687</td>\n",
       "      <td>13.559365</td>\n",
       "      <td>1.912588</td>\n",
       "      <td>1.685924</td>\n",
       "      <td>1.694192</td>\n",
       "      <td>1.547080</td>\n",
       "      <td>56.416155</td>\n",
       "      <td>3.418247</td>\n",
       "      <td>1.961471</td>\n",
       "      <td>2.169398</td>\n",
       "      <td>1.288842</td>\n",
       "      <td>0.438448</td>\n",
       "    </tr>\n",
       "    <tr>\n",
       "      <th>std</th>\n",
       "      <td>3.389489</td>\n",
       "      <td>8.750201</td>\n",
       "      <td>5.411096</td>\n",
       "      <td>1.517900</td>\n",
       "      <td>0.464147</td>\n",
       "      <td>1.510692</td>\n",
       "      <td>1.587622</td>\n",
       "      <td>29.105356</td>\n",
       "      <td>1.207916</td>\n",
       "      <td>0.571444</td>\n",
       "      <td>0.788149</td>\n",
       "      <td>0.927817</td>\n",
       "      <td>0.496197</td>\n",
       "    </tr>\n",
       "    <tr>\n",
       "      <th>min</th>\n",
       "      <td>1.000000</td>\n",
       "      <td>1.000000</td>\n",
       "      <td>0.000000</td>\n",
       "      <td>1.000000</td>\n",
       "      <td>1.000000</td>\n",
       "      <td>1.000000</td>\n",
       "      <td>1.000000</td>\n",
       "      <td>1.000000</td>\n",
       "      <td>1.000000</td>\n",
       "      <td>1.000000</td>\n",
       "      <td>1.000000</td>\n",
       "      <td>1.000000</td>\n",
       "      <td>0.000000</td>\n",
       "    </tr>\n",
       "    <tr>\n",
       "      <th>25%</th>\n",
       "      <td>4.000000</td>\n",
       "      <td>8.000000</td>\n",
       "      <td>10.000000</td>\n",
       "      <td>1.000000</td>\n",
       "      <td>1.000000</td>\n",
       "      <td>1.000000</td>\n",
       "      <td>1.000000</td>\n",
       "      <td>31.000000</td>\n",
       "      <td>3.000000</td>\n",
       "      <td>2.000000</td>\n",
       "      <td>2.000000</td>\n",
       "      <td>1.000000</td>\n",
       "      <td>0.000000</td>\n",
       "    </tr>\n",
       "    <tr>\n",
       "      <th>50%</th>\n",
       "      <td>7.000000</td>\n",
       "      <td>15.000000</td>\n",
       "      <td>14.000000</td>\n",
       "      <td>1.000000</td>\n",
       "      <td>2.000000</td>\n",
       "      <td>1.000000</td>\n",
       "      <td>1.000000</td>\n",
       "      <td>63.000000</td>\n",
       "      <td>4.000000</td>\n",
       "      <td>2.000000</td>\n",
       "      <td>2.000000</td>\n",
       "      <td>1.000000</td>\n",
       "      <td>0.000000</td>\n",
       "    </tr>\n",
       "    <tr>\n",
       "      <th>75%</th>\n",
       "      <td>10.000000</td>\n",
       "      <td>23.000000</td>\n",
       "      <td>18.000000</td>\n",
       "      <td>3.000000</td>\n",
       "      <td>2.000000</td>\n",
       "      <td>2.000000</td>\n",
       "      <td>1.000000</td>\n",
       "      <td>78.000000</td>\n",
       "      <td>4.000000</td>\n",
       "      <td>2.000000</td>\n",
       "      <td>2.000000</td>\n",
       "      <td>1.000000</td>\n",
       "      <td>1.000000</td>\n",
       "    </tr>\n",
       "    <tr>\n",
       "      <th>max</th>\n",
       "      <td>12.000000</td>\n",
       "      <td>31.000000</td>\n",
       "      <td>23.000000</td>\n",
       "      <td>5.000000</td>\n",
       "      <td>2.000000</td>\n",
       "      <td>9.000000</td>\n",
       "      <td>9.000000</td>\n",
       "      <td>97.000000</td>\n",
       "      <td>9.000000</td>\n",
       "      <td>4.000000</td>\n",
       "      <td>5.000000</td>\n",
       "      <td>9.000000</td>\n",
       "      <td>1.000000</td>\n",
       "    </tr>\n",
       "  </tbody>\n",
       "</table>\n",
       "</div>"
      ],
      "text/plain": [
       "                mois           jour           hrmn            lum  \\\n",
       "count  839985.000000  839985.000000  839985.000000  839985.000000   \n",
       "mean        6.679437      15.594687      13.559365       1.912588   \n",
       "std         3.389489       8.750201       5.411096       1.517900   \n",
       "min         1.000000       1.000000       0.000000       1.000000   \n",
       "25%         4.000000       8.000000      10.000000       1.000000   \n",
       "50%         7.000000      15.000000      14.000000       1.000000   \n",
       "75%        10.000000      23.000000      18.000000       3.000000   \n",
       "max        12.000000      31.000000      23.000000       5.000000   \n",
       "\n",
       "                 agg            int            atm            dep  \\\n",
       "count  839985.000000  839985.000000  839985.000000  839985.000000   \n",
       "mean        1.685924       1.694192       1.547080      56.416155   \n",
       "std         0.464147       1.510692       1.587622      29.105356   \n",
       "min         1.000000       1.000000       1.000000       1.000000   \n",
       "25%         1.000000       1.000000       1.000000      31.000000   \n",
       "50%         2.000000       1.000000       1.000000      63.000000   \n",
       "75%         2.000000       2.000000       1.000000      78.000000   \n",
       "max         2.000000       9.000000       9.000000      97.000000   \n",
       "\n",
       "                catr           circ            nbv           surf  \\\n",
       "count  839985.000000  839985.000000  839985.000000  839985.000000   \n",
       "mean        3.418247       1.961471       2.169398       1.288842   \n",
       "std         1.207916       0.571444       0.788149       0.927817   \n",
       "min         1.000000       1.000000       1.000000       1.000000   \n",
       "25%         3.000000       2.000000       2.000000       1.000000   \n",
       "50%         4.000000       2.000000       2.000000       1.000000   \n",
       "75%         4.000000       2.000000       2.000000       1.000000   \n",
       "max         9.000000       4.000000       5.000000       9.000000   \n",
       "\n",
       "            severity  \n",
       "count  839985.000000  \n",
       "mean        0.438448  \n",
       "std         0.496197  \n",
       "min         0.000000  \n",
       "25%         0.000000  \n",
       "50%         0.000000  \n",
       "75%         1.000000  \n",
       "max         1.000000  "
      ]
     },
     "execution_count": 483,
     "metadata": {},
     "output_type": "execute_result"
    }
   ],
   "source": [
    "data_df.describe()"
   ]
  },
  {
   "cell_type": "code",
   "execution_count": 484,
   "metadata": {},
   "outputs": [
    {
     "data": {
      "text/html": [
       "<div>\n",
       "<style scoped>\n",
       "    .dataframe tbody tr th:only-of-type {\n",
       "        vertical-align: middle;\n",
       "    }\n",
       "\n",
       "    .dataframe tbody tr th {\n",
       "        vertical-align: top;\n",
       "    }\n",
       "\n",
       "    .dataframe thead th {\n",
       "        text-align: right;\n",
       "    }\n",
       "</style>\n",
       "<table border=\"1\" class=\"dataframe\">\n",
       "  <thead>\n",
       "    <tr style=\"text-align: right;\">\n",
       "      <th></th>\n",
       "      <th>mois</th>\n",
       "      <th>jour</th>\n",
       "      <th>hrmn</th>\n",
       "      <th>lum</th>\n",
       "      <th>agg</th>\n",
       "      <th>int</th>\n",
       "      <th>atm</th>\n",
       "      <th>dep</th>\n",
       "      <th>catr</th>\n",
       "      <th>circ</th>\n",
       "      <th>nbv</th>\n",
       "      <th>surf</th>\n",
       "      <th>severity</th>\n",
       "    </tr>\n",
       "  </thead>\n",
       "  <tbody>\n",
       "    <tr>\n",
       "      <th>0</th>\n",
       "      <td>2</td>\n",
       "      <td>1</td>\n",
       "      <td>14</td>\n",
       "      <td>1</td>\n",
       "      <td>2</td>\n",
       "      <td>1</td>\n",
       "      <td>8</td>\n",
       "      <td>59.0</td>\n",
       "      <td>3</td>\n",
       "      <td>2</td>\n",
       "      <td>2</td>\n",
       "      <td>1</td>\n",
       "      <td>1</td>\n",
       "    </tr>\n",
       "    <tr>\n",
       "      <th>1</th>\n",
       "      <td>3</td>\n",
       "      <td>16</td>\n",
       "      <td>18</td>\n",
       "      <td>1</td>\n",
       "      <td>2</td>\n",
       "      <td>6</td>\n",
       "      <td>1</td>\n",
       "      <td>59.0</td>\n",
       "      <td>3</td>\n",
       "      <td>1</td>\n",
       "      <td>2</td>\n",
       "      <td>1</td>\n",
       "      <td>1</td>\n",
       "    </tr>\n",
       "    <tr>\n",
       "      <th>2</th>\n",
       "      <td>7</td>\n",
       "      <td>13</td>\n",
       "      <td>19</td>\n",
       "      <td>1</td>\n",
       "      <td>1</td>\n",
       "      <td>1</td>\n",
       "      <td>1</td>\n",
       "      <td>59.0</td>\n",
       "      <td>3</td>\n",
       "      <td>2</td>\n",
       "      <td>2</td>\n",
       "      <td>2</td>\n",
       "      <td>1</td>\n",
       "    </tr>\n",
       "    <tr>\n",
       "      <th>3</th>\n",
       "      <td>8</td>\n",
       "      <td>15</td>\n",
       "      <td>19</td>\n",
       "      <td>2</td>\n",
       "      <td>2</td>\n",
       "      <td>1</td>\n",
       "      <td>7</td>\n",
       "      <td>59.0</td>\n",
       "      <td>4</td>\n",
       "      <td>2</td>\n",
       "      <td>2</td>\n",
       "      <td>1</td>\n",
       "      <td>1</td>\n",
       "    </tr>\n",
       "    <tr>\n",
       "      <th>4</th>\n",
       "      <td>12</td>\n",
       "      <td>23</td>\n",
       "      <td>11</td>\n",
       "      <td>1</td>\n",
       "      <td>2</td>\n",
       "      <td>3</td>\n",
       "      <td>1</td>\n",
       "      <td>59.0</td>\n",
       "      <td>4</td>\n",
       "      <td>2</td>\n",
       "      <td>2</td>\n",
       "      <td>1</td>\n",
       "      <td>1</td>\n",
       "    </tr>\n",
       "  </tbody>\n",
       "</table>\n",
       "</div>"
      ],
      "text/plain": [
       "   mois  jour  hrmn  lum  agg  int  atm   dep  catr  circ  nbv  surf  severity\n",
       "0     2     1    14    1    2    1    8  59.0     3     2    2     1         1\n",
       "1     3    16    18    1    2    6    1  59.0     3     1    2     1         1\n",
       "2     7    13    19    1    1    1    1  59.0     3     2    2     2         1\n",
       "3     8    15    19    2    2    1    7  59.0     4     2    2     1         1\n",
       "4    12    23    11    1    2    3    1  59.0     4     2    2     1         1"
      ]
     },
     "execution_count": 484,
     "metadata": {},
     "output_type": "execute_result"
    }
   ],
   "source": [
    "data_df.head(5)"
   ]
  },
  {
   "cell_type": "code",
   "execution_count": 485,
   "metadata": {},
   "outputs": [
    {
     "data": {
      "text/html": [
       "<div>\n",
       "<style scoped>\n",
       "    .dataframe tbody tr th:only-of-type {\n",
       "        vertical-align: middle;\n",
       "    }\n",
       "\n",
       "    .dataframe tbody tr th {\n",
       "        vertical-align: top;\n",
       "    }\n",
       "\n",
       "    .dataframe thead th {\n",
       "        text-align: right;\n",
       "    }\n",
       "</style>\n",
       "<table border=\"1\" class=\"dataframe\">\n",
       "  <thead>\n",
       "    <tr style=\"text-align: right;\">\n",
       "      <th></th>\n",
       "      <th>mois</th>\n",
       "      <th>jour</th>\n",
       "      <th>hrmn</th>\n",
       "      <th>lum</th>\n",
       "      <th>agg</th>\n",
       "      <th>int</th>\n",
       "      <th>atm</th>\n",
       "      <th>dep</th>\n",
       "      <th>catr</th>\n",
       "      <th>circ</th>\n",
       "      <th>nbv</th>\n",
       "      <th>surf</th>\n",
       "      <th>severity</th>\n",
       "    </tr>\n",
       "  </thead>\n",
       "  <tbody>\n",
       "    <tr>\n",
       "      <th>839980</th>\n",
       "      <td>12</td>\n",
       "      <td>21</td>\n",
       "      <td>20</td>\n",
       "      <td>5</td>\n",
       "      <td>2</td>\n",
       "      <td>2</td>\n",
       "      <td>1</td>\n",
       "      <td>97.0</td>\n",
       "      <td>4</td>\n",
       "      <td>2</td>\n",
       "      <td>3</td>\n",
       "      <td>1</td>\n",
       "      <td>0</td>\n",
       "    </tr>\n",
       "    <tr>\n",
       "      <th>839981</th>\n",
       "      <td>12</td>\n",
       "      <td>23</td>\n",
       "      <td>10</td>\n",
       "      <td>1</td>\n",
       "      <td>2</td>\n",
       "      <td>1</td>\n",
       "      <td>1</td>\n",
       "      <td>97.0</td>\n",
       "      <td>4</td>\n",
       "      <td>2</td>\n",
       "      <td>2</td>\n",
       "      <td>1</td>\n",
       "      <td>0</td>\n",
       "    </tr>\n",
       "    <tr>\n",
       "      <th>839982</th>\n",
       "      <td>12</td>\n",
       "      <td>26</td>\n",
       "      <td>17</td>\n",
       "      <td>1</td>\n",
       "      <td>2</td>\n",
       "      <td>2</td>\n",
       "      <td>1</td>\n",
       "      <td>97.0</td>\n",
       "      <td>4</td>\n",
       "      <td>1</td>\n",
       "      <td>2</td>\n",
       "      <td>1</td>\n",
       "      <td>0</td>\n",
       "    </tr>\n",
       "    <tr>\n",
       "      <th>839983</th>\n",
       "      <td>12</td>\n",
       "      <td>27</td>\n",
       "      <td>15</td>\n",
       "      <td>1</td>\n",
       "      <td>2</td>\n",
       "      <td>3</td>\n",
       "      <td>2</td>\n",
       "      <td>97.0</td>\n",
       "      <td>4</td>\n",
       "      <td>2</td>\n",
       "      <td>2</td>\n",
       "      <td>1</td>\n",
       "      <td>0</td>\n",
       "    </tr>\n",
       "    <tr>\n",
       "      <th>839984</th>\n",
       "      <td>12</td>\n",
       "      <td>31</td>\n",
       "      <td>21</td>\n",
       "      <td>5</td>\n",
       "      <td>2</td>\n",
       "      <td>1</td>\n",
       "      <td>2</td>\n",
       "      <td>97.0</td>\n",
       "      <td>2</td>\n",
       "      <td>3</td>\n",
       "      <td>2</td>\n",
       "      <td>2</td>\n",
       "      <td>0</td>\n",
       "    </tr>\n",
       "  </tbody>\n",
       "</table>\n",
       "</div>"
      ],
      "text/plain": [
       "        mois  jour  hrmn  lum  agg  int  atm   dep  catr  circ  nbv  surf  \\\n",
       "839980    12    21    20    5    2    2    1  97.0     4     2    3     1   \n",
       "839981    12    23    10    1    2    1    1  97.0     4     2    2     1   \n",
       "839982    12    26    17    1    2    2    1  97.0     4     1    2     1   \n",
       "839983    12    27    15    1    2    3    2  97.0     4     2    2     1   \n",
       "839984    12    31    21    5    2    1    2  97.0     2     3    2     2   \n",
       "\n",
       "        severity  \n",
       "839980         0  \n",
       "839981         0  \n",
       "839982         0  \n",
       "839983         0  \n",
       "839984         0  "
      ]
     },
     "execution_count": 485,
     "metadata": {},
     "output_type": "execute_result"
    }
   ],
   "source": [
    "data_df.tail(5)"
   ]
  },
  {
   "cell_type": "markdown",
   "metadata": {},
   "source": [
    "## Fature selection"
   ]
  },
  {
   "cell_type": "markdown",
   "metadata": {},
   "source": [
    "#### Lets define feature sets, X:"
   ]
  },
  {
   "cell_type": "code",
   "execution_count": 486,
   "metadata": {},
   "outputs": [
    {
     "data": {
      "text/html": [
       "<div>\n",
       "<style scoped>\n",
       "    .dataframe tbody tr th:only-of-type {\n",
       "        vertical-align: middle;\n",
       "    }\n",
       "\n",
       "    .dataframe tbody tr th {\n",
       "        vertical-align: top;\n",
       "    }\n",
       "\n",
       "    .dataframe thead th {\n",
       "        text-align: right;\n",
       "    }\n",
       "</style>\n",
       "<table border=\"1\" class=\"dataframe\">\n",
       "  <thead>\n",
       "    <tr style=\"text-align: right;\">\n",
       "      <th></th>\n",
       "      <th>mois</th>\n",
       "      <th>jour</th>\n",
       "      <th>hrmn</th>\n",
       "      <th>lum</th>\n",
       "      <th>agg</th>\n",
       "      <th>int</th>\n",
       "      <th>atm</th>\n",
       "      <th>dep</th>\n",
       "      <th>catr</th>\n",
       "      <th>circ</th>\n",
       "      <th>nbv</th>\n",
       "      <th>surf</th>\n",
       "    </tr>\n",
       "  </thead>\n",
       "  <tbody>\n",
       "    <tr>\n",
       "      <th>0</th>\n",
       "      <td>2</td>\n",
       "      <td>1</td>\n",
       "      <td>14</td>\n",
       "      <td>1</td>\n",
       "      <td>2</td>\n",
       "      <td>1</td>\n",
       "      <td>8</td>\n",
       "      <td>59.0</td>\n",
       "      <td>3</td>\n",
       "      <td>2</td>\n",
       "      <td>2</td>\n",
       "      <td>1</td>\n",
       "    </tr>\n",
       "    <tr>\n",
       "      <th>1</th>\n",
       "      <td>3</td>\n",
       "      <td>16</td>\n",
       "      <td>18</td>\n",
       "      <td>1</td>\n",
       "      <td>2</td>\n",
       "      <td>6</td>\n",
       "      <td>1</td>\n",
       "      <td>59.0</td>\n",
       "      <td>3</td>\n",
       "      <td>1</td>\n",
       "      <td>2</td>\n",
       "      <td>1</td>\n",
       "    </tr>\n",
       "    <tr>\n",
       "      <th>2</th>\n",
       "      <td>7</td>\n",
       "      <td>13</td>\n",
       "      <td>19</td>\n",
       "      <td>1</td>\n",
       "      <td>1</td>\n",
       "      <td>1</td>\n",
       "      <td>1</td>\n",
       "      <td>59.0</td>\n",
       "      <td>3</td>\n",
       "      <td>2</td>\n",
       "      <td>2</td>\n",
       "      <td>2</td>\n",
       "    </tr>\n",
       "    <tr>\n",
       "      <th>3</th>\n",
       "      <td>8</td>\n",
       "      <td>15</td>\n",
       "      <td>19</td>\n",
       "      <td>2</td>\n",
       "      <td>2</td>\n",
       "      <td>1</td>\n",
       "      <td>7</td>\n",
       "      <td>59.0</td>\n",
       "      <td>4</td>\n",
       "      <td>2</td>\n",
       "      <td>2</td>\n",
       "      <td>1</td>\n",
       "    </tr>\n",
       "    <tr>\n",
       "      <th>4</th>\n",
       "      <td>12</td>\n",
       "      <td>23</td>\n",
       "      <td>11</td>\n",
       "      <td>1</td>\n",
       "      <td>2</td>\n",
       "      <td>3</td>\n",
       "      <td>1</td>\n",
       "      <td>59.0</td>\n",
       "      <td>4</td>\n",
       "      <td>2</td>\n",
       "      <td>2</td>\n",
       "      <td>1</td>\n",
       "    </tr>\n",
       "  </tbody>\n",
       "</table>\n",
       "</div>"
      ],
      "text/plain": [
       "   mois  jour  hrmn  lum  agg  int  atm   dep  catr  circ  nbv  surf\n",
       "0     2     1    14    1    2    1    8  59.0     3     2    2     1\n",
       "1     3    16    18    1    2    6    1  59.0     3     1    2     1\n",
       "2     7    13    19    1    1    1    1  59.0     3     2    2     2\n",
       "3     8    15    19    2    2    1    7  59.0     4     2    2     1\n",
       "4    12    23    11    1    2    3    1  59.0     4     2    2     1"
      ]
     },
     "execution_count": 486,
     "metadata": {},
     "output_type": "execute_result"
    }
   ],
   "source": [
    "X = data_df[['mois', 'jour', 'hrmn', 'lum', 'agg', 'int', 'atm', 'dep', 'catr', 'circ', 'nbv', 'surf']]\n",
    "X[0:5]"
   ]
  },
  {
   "cell_type": "code",
   "execution_count": 487,
   "metadata": {},
   "outputs": [
    {
     "data": {
      "text/plain": [
       "array([1, 1, 1, 1, 1], dtype=int64)"
      ]
     },
     "execution_count": 487,
     "metadata": {},
     "output_type": "execute_result"
    }
   ],
   "source": [
    "y = data_df['severity'].values\n",
    "y[0:5]"
   ]
  },
  {
   "cell_type": "markdown",
   "metadata": {},
   "source": [
    "# Train/Test Split"
   ]
  },
  {
   "cell_type": "code",
   "execution_count": 488,
   "metadata": {},
   "outputs": [
    {
     "name": "stdout",
     "output_type": "stream",
     "text": [
      "Train set: (671988, 12) (671988,)\n",
      "Test set: (167997, 12) (167997,)\n"
     ]
    }
   ],
   "source": [
    "# import library\n",
    "from sklearn import metrics\n",
    "from sklearn.model_selection import train_test_split\n",
    "\n",
    "X_train, X_test, y_train, y_test = train_test_split( X, y, test_size=0.2, random_state=42)\n",
    "print ('Train set:', X_train.shape,  y_train.shape)\n",
    "print ('Test set:', X_test.shape,  y_test.shape)"
   ]
  },
  {
   "cell_type": "markdown",
   "metadata": {},
   "source": [
    "## Normalization\n"
   ]
  },
  {
   "cell_type": "code",
   "execution_count": 489,
   "metadata": {},
   "outputs": [
    {
     "data": {
      "text/plain": [
       "array([[ 1.27456005, -0.75411117, -1.21212586, -0.60059605,  0.67613797,\n",
       "        -0.45997713, -0.34459231, -1.49358598,  0.48232836,  1.815361  ,\n",
       "        -0.21573038, -0.31131679],\n",
       "       [ 0.68429316,  1.53194158, -1.21212586, -0.60059605,  0.67613797,\n",
       "        -0.45997713, -0.34459231, -1.04684953,  0.48232836,  0.06626135,\n",
       "         1.05230571, -0.31131679],\n",
       "       [ 1.56969349, -0.75411117, -1.76671204,  2.03627363,  0.67613797,\n",
       "        -0.45997713,  4.69880459, -1.32176427, -0.34594652,  0.06626135,\n",
       "        -0.21573038,  6.16439632],\n",
       "       [-1.67677439,  1.30333631, -1.0272638 , -0.60059605, -1.47898808,\n",
       "        -0.45997713, -0.34459231,  0.36208851, -2.0024963 ,  1.815361  ,\n",
       "         1.05230571, -0.31131679],\n",
       "       [-1.67677439,  1.41763895,  0.63649474,  0.05862137, -1.47898808,\n",
       "        -0.45997713, -0.34459231, -0.66884176, -2.0024963 , -1.6828383 ,\n",
       "         1.05230571, -0.31131679]])"
      ]
     },
     "execution_count": 489,
     "metadata": {},
     "output_type": "execute_result"
    }
   ],
   "source": [
    "X= preprocessing.StandardScaler().fit(X_train).transform(X_train)\n",
    "X[0:5]"
   ]
  },
  {
   "cell_type": "markdown",
   "metadata": {},
   "source": [
    "# Training"
   ]
  },
  {
   "cell_type": "markdown",
   "metadata": {},
   "source": [
    "## Random Forest"
   ]
  },
  {
   "cell_type": "code",
   "execution_count": 490,
   "metadata": {},
   "outputs": [],
   "source": [
    "import time\n",
    "from sklearn.metrics import accuracy_score\n",
    "from sklearn.ensemble import RandomForestClassifier\n",
    "from sklearn.metrics import jaccard_score\n",
    "from sklearn.metrics import f1_score\n",
    "from sklearn.metrics import log_loss"
   ]
  },
  {
   "cell_type": "code",
   "execution_count": 491,
   "metadata": {},
   "outputs": [
    {
     "name": "stdout",
     "output_type": "stream",
     "text": [
      "Time taken : 63.27996301651001\n"
     ]
    }
   ],
   "source": [
    "t0=time.time()\n",
    "model_rf = RandomForestClassifier(n_estimators=100,random_state=0, n_jobs=-1)\n",
    "model_rf.fit(X_train,y_train)\n",
    "print('Time taken :' , time.time()-t0)"
   ]
  },
  {
   "cell_type": "markdown",
   "metadata": {},
   "source": [
    "### Evaluation"
   ]
  },
  {
   "cell_type": "code",
   "execution_count": 492,
   "metadata": {},
   "outputs": [
    {
     "name": "stdout",
     "output_type": "stream",
     "text": [
      "Accuracy : 0.6916254456924826\n"
     ]
    }
   ],
   "source": [
    "y_pred = model_rf.predict(X_test)\n",
    "score_rf = accuracy_score(y_test,y_pred)\n",
    "print('Accuracy :',score_rf)"
   ]
  },
  {
   "cell_type": "markdown",
   "metadata": {},
   "source": [
    "## Importart Feature Selection"
   ]
  },
  {
   "cell_type": "code",
   "execution_count": 493,
   "metadata": {},
   "outputs": [
    {
     "data": {
      "text/html": [
       "<div>\n",
       "<style scoped>\n",
       "    .dataframe tbody tr th:only-of-type {\n",
       "        vertical-align: middle;\n",
       "    }\n",
       "\n",
       "    .dataframe tbody tr th {\n",
       "        vertical-align: top;\n",
       "    }\n",
       "\n",
       "    .dataframe thead th {\n",
       "        text-align: right;\n",
       "    }\n",
       "</style>\n",
       "<table border=\"1\" class=\"dataframe\">\n",
       "  <thead>\n",
       "    <tr style=\"text-align: right;\">\n",
       "      <th></th>\n",
       "      <th>importance</th>\n",
       "    </tr>\n",
       "    <tr>\n",
       "      <th>feature</th>\n",
       "      <th></th>\n",
       "    </tr>\n",
       "  </thead>\n",
       "  <tbody>\n",
       "    <tr>\n",
       "      <th>dep</th>\n",
       "      <td>0.233</td>\n",
       "    </tr>\n",
       "    <tr>\n",
       "      <th>jour</th>\n",
       "      <td>0.229</td>\n",
       "    </tr>\n",
       "    <tr>\n",
       "      <th>hrmn</th>\n",
       "      <td>0.141</td>\n",
       "    </tr>\n",
       "    <tr>\n",
       "      <th>mois</th>\n",
       "      <td>0.123</td>\n",
       "    </tr>\n",
       "    <tr>\n",
       "      <th>catr</th>\n",
       "      <td>0.069</td>\n",
       "    </tr>\n",
       "    <tr>\n",
       "      <th>agg</th>\n",
       "      <td>0.051</td>\n",
       "    </tr>\n",
       "    <tr>\n",
       "      <th>circ</th>\n",
       "      <td>0.033</td>\n",
       "    </tr>\n",
       "    <tr>\n",
       "      <th>nbv</th>\n",
       "      <td>0.031</td>\n",
       "    </tr>\n",
       "    <tr>\n",
       "      <th>int</th>\n",
       "      <td>0.030</td>\n",
       "    </tr>\n",
       "    <tr>\n",
       "      <th>atm</th>\n",
       "      <td>0.023</td>\n",
       "    </tr>\n",
       "    <tr>\n",
       "      <th>lum</th>\n",
       "      <td>0.021</td>\n",
       "    </tr>\n",
       "    <tr>\n",
       "      <th>surf</th>\n",
       "      <td>0.016</td>\n",
       "    </tr>\n",
       "  </tbody>\n",
       "</table>\n",
       "</div>"
      ],
      "text/plain": [
       "         importance\n",
       "feature            \n",
       "dep           0.233\n",
       "jour          0.229\n",
       "hrmn          0.141\n",
       "mois          0.123\n",
       "catr          0.069\n",
       "agg           0.051\n",
       "circ          0.033\n",
       "nbv           0.031\n",
       "int           0.030\n",
       "atm           0.023\n",
       "lum           0.021\n",
       "surf          0.016"
      ]
     },
     "execution_count": 493,
     "metadata": {},
     "output_type": "execute_result"
    }
   ],
   "source": [
    "importances = pd.DataFrame({'feature':X_train.columns,'importance':np.round(model_rf.feature_importances_,3)})\n",
    "importances = importances.sort_values('importance',ascending=False).set_index('feature')\n",
    "importances"
   ]
  },
  {
   "cell_type": "markdown",
   "metadata": {},
   "source": [
    "## Drop columns with lowest importance"
   ]
  },
  {
   "cell_type": "code",
   "execution_count": 494,
   "metadata": {},
   "outputs": [],
   "source": [
    "X_train = X_train.drop([\"surf\", \"lum\", \"atm\", \"int\", \"nbv\", \"circ\"], axis=1)\n",
    "X_test = X_test.drop([\"surf\", \"lum\", \"atm\", \"int\", \"nbv\", \"circ\"], axis=1)"
   ]
  },
  {
   "cell_type": "code",
   "execution_count": 495,
   "metadata": {},
   "outputs": [
    {
     "name": "stdout",
     "output_type": "stream",
     "text": [
      "Accuracy : 0.6655297416025286\n",
      "Time taken : 53.01901149749756\n"
     ]
    }
   ],
   "source": [
    "t0=time.time()\n",
    "model_rf = RandomForestClassifier(n_estimators=100,random_state=0, n_jobs=-1)\n",
    "model_rf.fit(X_train,y_train)\n",
    "y_pred = model_rf.predict(X_test)\n",
    "score = accuracy_score(y_test,y_pred)\n",
    "print('Accuracy :',score)\n",
    "print('Time taken :' , time.time()-t0)"
   ]
  },
  {
   "cell_type": "markdown",
   "metadata": {},
   "source": [
    "## Hyperparameter tuning"
   ]
  },
  {
   "cell_type": "code",
   "execution_count": 496,
   "metadata": {},
   "outputs": [
    {
     "name": "stdout",
     "output_type": "stream",
     "text": [
      "Accuracy : 0.6950183634231564\n",
      "Time taken : 27.282714366912842\n"
     ]
    }
   ],
   "source": [
    "t0=time.time()\n",
    "model_rf = RandomForestClassifier(n_estimators=100, max_depth= 5, max_features= 3, random_state=0, n_jobs=-1)\n",
    "model_rf.fit(X_train,y_train)\n",
    "y_pred = model_rf.predict(X_test)\n",
    "score = accuracy_score(y_test,y_pred)\n",
    "print('Accuracy :',score)\n",
    "print('Time taken :' , time.time()-t0)"
   ]
  },
  {
   "cell_type": "code",
   "execution_count": 497,
   "metadata": {},
   "outputs": [
    {
     "name": "stdout",
     "output_type": "stream",
     "text": [
      "Accuracy : 0.695232652964041\n",
      "Time taken : 16.047415494918823\n"
     ]
    }
   ],
   "source": [
    "t0=time.time()\n",
    "model_rf = RandomForestClassifier(n_estimators=50, max_depth= 5, max_features= 3, random_state=0, n_jobs=-1)\n",
    "model_rf.fit(X_train,y_train)\n",
    "y_pred = model_rf.predict(X_test)\n",
    "score = accuracy_score(y_test,y_pred)\n",
    "print('Accuracy :',score)\n",
    "print('Time taken :' , time.time()-t0)"
   ]
  },
  {
   "cell_type": "code",
   "execution_count": 498,
   "metadata": {},
   "outputs": [
    {
     "name": "stdout",
     "output_type": "stream",
     "text": [
      "Accuracy : 0.6961910034107752\n",
      "Time taken : 2.958742618560791\n"
     ]
    }
   ],
   "source": [
    "t0=time.time()\n",
    "model_rf = RandomForestClassifier(n_estimators=7, max_depth= 6, max_features= 3, random_state=0, n_jobs=-1)\n",
    "model_rf.fit(X_train,y_train)\n",
    "y_pred = model_rf.predict(X_test)\n",
    "score = accuracy_score(y_test,y_pred)\n",
    "print('Accuracy :',score)\n",
    "print('Time taken :' , time.time()-t0)"
   ]
  },
  {
   "cell_type": "markdown",
   "metadata": {},
   "source": [
    "## Evaluation"
   ]
  },
  {
   "cell_type": "markdown",
   "metadata": {},
   "source": [
    "### Testing for accuracy"
   ]
  },
  {
   "cell_type": "code",
   "execution_count": 499,
   "metadata": {},
   "outputs": [
    {
     "name": "stdout",
     "output_type": "stream",
     "text": [
      "Accuracy : 0.7127329654696215\n",
      "Time taken : 7.097916603088379\n"
     ]
    }
   ],
   "source": [
    "t0=time.time()\n",
    "model_rf = RandomForestClassifier(n_estimators=7, max_depth= 15, max_features= 6, random_state=0, n_jobs=-1)\n",
    "model_rf.fit(X_train,y_train)\n",
    "y_pred = model_rf.predict(X_test)\n",
    "score = accuracy_score(y_test,y_pred)\n",
    "print('Accuracy :',score)\n",
    "print('Time taken :' , time.time()-t0)"
   ]
  },
  {
   "cell_type": "markdown",
   "metadata": {},
   "source": [
    "### Model Evaluation"
   ]
  },
  {
   "cell_type": "code",
   "execution_count": 500,
   "metadata": {},
   "outputs": [
    {
     "name": "stdout",
     "output_type": "stream",
     "text": [
      "LR Jaccard index:  0.44011558389796734\n",
      "LR F1-score:  0.6647259012673726\n",
      "LR log loss:  0.9144198556890203\n"
     ]
    }
   ],
   "source": [
    "model_rf = RandomForestClassifier(n_estimators=100,random_state=0, n_jobs=-1)\n",
    "model_rf.fit(X_train,y_train)\n",
    "\n",
    "yhat_rf = model_rf.predict(X_test)\n",
    "yhat_rf_prob = model_rf.predict_proba(X_test)\n",
    "\n",
    "# jaccard\n",
    "jaccard_rf = jaccard_score(y_test, yhat_rf)\n",
    "print(\"LR Jaccard index: \", jaccard_rf)\n",
    "\n",
    "# f1_score\n",
    "f1_score_rf = f1_score(y_test, yhat_rf, average='weighted')\n",
    "print(\"LR F1-score: \", f1_score_rf)\n",
    "\n",
    "# logloss\n",
    "logloss_rf = log_loss(y_test, yhat_rf_prob)\n",
    "print(\"LR log loss: \", logloss_rf)"
   ]
  },
  {
   "cell_type": "markdown",
   "metadata": {},
   "source": [
    "### Confusion Matrix, Precision & Recall"
   ]
  },
  {
   "cell_type": "code",
   "execution_count": 501,
   "metadata": {},
   "outputs": [],
   "source": [
    "from sklearn.metrics import confusion_matrix, precision_score, recall_score, roc_curve, roc_auc_score"
   ]
  },
  {
   "cell_type": "code",
   "execution_count": 502,
   "metadata": {},
   "outputs": [
    {
     "data": {
      "text/plain": [
       "array([[74206, 20109],\n",
       "       [28151, 45531]], dtype=int64)"
      ]
     },
     "execution_count": 502,
     "metadata": {},
     "output_type": "execute_result"
    }
   ],
   "source": [
    "confusion_matrix(y_test, y_pred)"
   ]
  },
  {
   "cell_type": "code",
   "execution_count": 503,
   "metadata": {},
   "outputs": [
    {
     "data": {
      "text/plain": [
       "0.6936471663619744"
      ]
     },
     "execution_count": 503,
     "metadata": {},
     "output_type": "execute_result"
    }
   ],
   "source": [
    "precision_rf = precision_score(y_test, y_pred)\n",
    "precision_rf"
   ]
  },
  {
   "cell_type": "code",
   "execution_count": 504,
   "metadata": {},
   "outputs": [
    {
     "data": {
      "text/plain": [
       "0.6179392524632882"
      ]
     },
     "execution_count": 504,
     "metadata": {},
     "output_type": "execute_result"
    }
   ],
   "source": [
    "rf_recall_score = recall_score(y_test, y_pred)\n",
    "rf_recall_score"
   ]
  },
  {
   "cell_type": "code",
   "execution_count": 505,
   "metadata": {},
   "outputs": [],
   "source": [
    "y_train1 = pd.DataFrame(y_train)"
   ]
  },
  {
   "cell_type": "code",
   "execution_count": 506,
   "metadata": {},
   "outputs": [
    {
     "data": {
      "text/plain": [
       "array([[<AxesSubplot:title={'center':'0'}>]], dtype=object)"
      ]
     },
     "execution_count": 506,
     "metadata": {},
     "output_type": "execute_result"
    },
    {
     "data": {
      "image/png": "[encoded data removed]",
      "text/plain": [
       "<Figure size 432x288 with 1 Axes>"
      ]
     },
     "metadata": {
      "needs_background": "light"
     },
     "output_type": "display_data"
    }
   ],
   "source": [
    "y_train1.hist()"
   ]
  },
  {
   "cell_type": "markdown",
   "metadata": {},
   "source": [
    "### ROC Curve"
   ]
  },
  {
   "cell_type": "code",
   "execution_count": 507,
   "metadata": {},
   "outputs": [],
   "source": [
    "y_scores_RF = model_rf.predict_proba(X_test)"
   ]
  },
  {
   "cell_type": "code",
   "execution_count": 508,
   "metadata": {},
   "outputs": [],
   "source": [
    "y_scores_RF = y_scores_RF[:,1]"
   ]
  },
  {
   "cell_type": "code",
   "execution_count": 509,
   "metadata": {},
   "outputs": [
    {
     "data": {
      "text/plain": [
       "0.6179392524632882"
      ]
     },
     "execution_count": 509,
     "metadata": {},
     "output_type": "execute_result"
    }
   ],
   "source": [
    "rf_recall = recall_score(y_test, y_pred)\n",
    "rf_recall"
   ]
  },
  {
   "cell_type": "code",
   "execution_count": 510,
   "metadata": {},
   "outputs": [
    {
     "data": {
      "text/plain": [
       "0.7125164023473654"
      ]
     },
     "execution_count": 510,
     "metadata": {},
     "output_type": "execute_result"
    }
   ],
   "source": [
    "r_a_score_RF = roc_auc_score(y_test, y_scores)\n",
    "r_a_score_RF"
   ]
  },
  {
   "cell_type": "markdown",
   "metadata": {},
   "source": [
    "### Prediction"
   ]
  },
  {
   "cell_type": "markdown",
   "metadata": {},
   "source": [
    "#### Example 1"
   ]
  },
  {
   "cell_type": "markdown",
   "metadata": {},
   "source": [
    "** If, as an emergency service, are receiving a call on the 31st of December, at 18 pm, calling to report an accident that happened out of a agglomeration, in the department 13 (around Marseille), on a departemental road.**"
   ]
  },
  {
   "cell_type": "code",
   "execution_count": 511,
   "metadata": {},
   "outputs": [
    {
     "data": {
      "text/plain": [
       "array([0], dtype=int64)"
      ]
     },
     "execution_count": 511,
     "metadata": {},
     "output_type": "execute_result"
    }
   ],
   "source": [
    "model_rf.predict(np.array([[12, 31, 18, 1, 13, 3]]))"
   ]
  },
  {
   "cell_type": "markdown",
   "metadata": {},
   "source": [
    "#### Example 2"
   ]
  },
  {
   "cell_type": "markdown",
   "metadata": {},
   "source": [
    "** However, if we receive a call from someone on the 5th of July, at 6 am, for an accident that happened in an agglomeration, out of an intersection, in the department 26, on a parking lot. **"
   ]
  },
  {
   "cell_type": "code",
   "execution_count": 512,
   "metadata": {},
   "outputs": [
    {
     "data": {
      "text/plain": [
       "array([0], dtype=int64)"
      ]
     },
     "execution_count": 512,
     "metadata": {},
     "output_type": "execute_result"
    }
   ],
   "source": [
    "model_rf.predict(np.array([[7, 5, 6, 2, 26, 6]]))"
   ]
  },
  {
   "cell_type": "markdown",
   "metadata": {},
   "source": [
    "## Logistic Regression"
   ]
  },
  {
   "cell_type": "code",
   "execution_count": 513,
   "metadata": {},
   "outputs": [
    {
     "data": {
      "text/plain": [
       "LogisticRegression(C=0.01)"
      ]
     },
     "execution_count": 513,
     "metadata": {},
     "output_type": "execute_result"
    }
   ],
   "source": [
    "# import library\n",
    "from sklearn.linear_model import LogisticRegression\n",
    "# training\n",
    "LR = LogisticRegression(C=0.01).fit(X_train,y_train)\n",
    "LR"
   ]
  },
  {
   "cell_type": "code",
   "execution_count": 514,
   "metadata": {},
   "outputs": [
    {
     "name": "stdout",
     "output_type": "stream",
     "text": [
      "Accuracy : 0.6506068560748108\n",
      "Time taken : 9.046783685684204\n"
     ]
    }
   ],
   "source": [
    "t0=time.time()\n",
    "LR = LogisticRegression(C=0.01).fit(X_train,y_train)\n",
    "y_pred_LR = LR.predict(X_test)\n",
    "score = accuracy_score(y_test,y_pred_LR)\n",
    "print('Accuracy :',score)\n",
    "print('Time taken :' , time.time()-t0)"
   ]
  },
  {
   "cell_type": "code",
   "execution_count": 515,
   "metadata": {},
   "outputs": [
    {
     "name": "stdout",
     "output_type": "stream",
     "text": [
      "LR Jaccard index:  0.3669434857635893\n",
      "LR F1-score:  0.6393996168996818\n",
      "LR log loss:  0.6423204595980727\n"
     ]
    }
   ],
   "source": [
    "yhat_lr = LR.predict(X_test)\n",
    "yhat_lr_prob = LR.predict_proba(X_test)\n",
    "\n",
    "# jaccard\n",
    "jaccard_lr = jaccard_score(y_test, yhat_lr)\n",
    "print(\"LR Jaccard index: \", jaccard_lr)\n",
    "\n",
    "# f1_score\n",
    "f1_score_lr = f1_score(y_test, yhat_lr, average='weighted')\n",
    "print(\"LR F1-score: \", f1_score_lr)\n",
    "\n",
    "# logloss\n",
    "logloss_lr = log_loss(y_test, yhat_lr_prob)\n",
    "print(\"LR log loss: \", logloss_lr)"
   ]
  },
  {
   "cell_type": "code",
   "execution_count": 516,
   "metadata": {},
   "outputs": [],
   "source": [
    "yhat_lr = pd.DataFrame(yhat_lr)"
   ]
  },
  {
   "cell_type": "code",
   "execution_count": 517,
   "metadata": {},
   "outputs": [
    {
     "data": {
      "text/plain": [
       "array([[<AxesSubplot:title={'center':'0'}>]], dtype=object)"
      ]
     },
     "execution_count": 517,
     "metadata": {},
     "output_type": "execute_result"
    },
    {
     "data": {
      "image/png": "[encoded data removed]",
      "text/plain": [
       "<Figure size 432x288 with 1 Axes>"
      ]
     },
     "metadata": {
      "needs_background": "light"
     },
     "output_type": "display_data"
    }
   ],
   "source": [
    "yhat_lr.hist()"
   ]
  },
  {
   "cell_type": "markdown",
   "metadata": {},
   "source": [
    "### Confusion Matrix, Precision & Recall\n"
   ]
  },
  {
   "cell_type": "code",
   "execution_count": 518,
   "metadata": {},
   "outputs": [
    {
     "data": {
      "text/plain": [
       "array([[75277, 19038],\n",
       "       [39659, 34023]], dtype=int64)"
      ]
     },
     "execution_count": 518,
     "metadata": {},
     "output_type": "execute_result"
    }
   ],
   "source": [
    "confusion_matrix(y_test, y_pred_LR)"
   ]
  },
  {
   "cell_type": "code",
   "execution_count": 519,
   "metadata": {},
   "outputs": [
    {
     "data": {
      "text/plain": [
       "0.6412054050997908"
      ]
     },
     "execution_count": 519,
     "metadata": {},
     "output_type": "execute_result"
    }
   ],
   "source": [
    "precision_lr = precision_score(y_test, y_pred_LR)\n",
    "precision_lr"
   ]
  },
  {
   "cell_type": "code",
   "execution_count": 520,
   "metadata": {},
   "outputs": [
    {
     "data": {
      "text/plain": [
       "0.461754566922722"
      ]
     },
     "execution_count": 520,
     "metadata": {},
     "output_type": "execute_result"
    }
   ],
   "source": [
    "lr_recall_score = recall_score(y_test, y_pred_LR)\n",
    "lr_recall_score"
   ]
  },
  {
   "cell_type": "markdown",
   "metadata": {},
   "source": [
    "## ROC Curve"
   ]
  },
  {
   "cell_type": "code",
   "execution_count": 521,
   "metadata": {},
   "outputs": [],
   "source": [
    "y_scores_LR = LR.predict_proba(X_test)"
   ]
  },
  {
   "cell_type": "code",
   "execution_count": 522,
   "metadata": {},
   "outputs": [],
   "source": [
    "y_scores_LR = y_scores_LR[:,1]"
   ]
  },
  {
   "cell_type": "code",
   "execution_count": 523,
   "metadata": {},
   "outputs": [
    {
     "data": {
      "text/plain": [
       "0.6179392524632882"
      ]
     },
     "execution_count": 523,
     "metadata": {},
     "output_type": "execute_result"
    }
   ],
   "source": [
    "lr_recall = recall_score(y_test, y_pred)\n",
    "lr_recall"
   ]
  },
  {
   "cell_type": "code",
   "execution_count": 524,
   "metadata": {},
   "outputs": [
    {
     "data": {
      "text/plain": [
       "0.6508746348416763"
      ]
     },
     "execution_count": 524,
     "metadata": {},
     "output_type": "execute_result"
    }
   ],
   "source": [
    "r_a_score_LR = roc_auc_score(y_test, y_scores_LR)\n",
    "r_a_score_LR"
   ]
  },
  {
   "cell_type": "code",
   "execution_count": 525,
   "metadata": {},
   "outputs": [
    {
     "data": {
      "text/html": [
       "<div>\n",
       "<style scoped>\n",
       "    .dataframe tbody tr th:only-of-type {\n",
       "        vertical-align: middle;\n",
       "    }\n",
       "\n",
       "    .dataframe tbody tr th {\n",
       "        vertical-align: top;\n",
       "    }\n",
       "\n",
       "    .dataframe thead th {\n",
       "        text-align: right;\n",
       "    }\n",
       "</style>\n",
       "<table border=\"1\" class=\"dataframe\">\n",
       "  <thead>\n",
       "    <tr style=\"text-align: right;\">\n",
       "      <th></th>\n",
       "      <th></th>\n",
       "      <th></th>\n",
       "      <th></th>\n",
       "    </tr>\n",
       "    <tr>\n",
       "      <th>Algorithm</th>\n",
       "      <th>Jaccard</th>\n",
       "      <th>F1-score</th>\n",
       "      <th>LogLoss</th>\n",
       "    </tr>\n",
       "  </thead>\n",
       "  <tbody>\n",
       "    <tr>\n",
       "      <th>RandomForest</th>\n",
       "      <th>0.44011558389796734</th>\n",
       "      <th>0.6647259012673726</th>\n",
       "      <th>0.9144198556890203</th>\n",
       "    </tr>\n",
       "    <tr>\n",
       "      <th>LogisticRegression</th>\n",
       "      <th>0.3669434857635893</th>\n",
       "      <th>0.6393996168996818</th>\n",
       "      <th>0.6423204595980727</th>\n",
       "    </tr>\n",
       "  </tbody>\n",
       "</table>\n",
       "</div>"
      ],
      "text/plain": [
       "Empty DataFrame\n",
       "Columns: []\n",
       "Index: [(RandomForest, 0.44011558389796734, 0.6647259012673726, 0.9144198556890203), (LogisticRegression, 0.3669434857635893, 0.6393996168996818, 0.6423204595980727)]"
      ]
     },
     "execution_count": 525,
     "metadata": {},
     "output_type": "execute_result"
    }
   ],
   "source": [
    "#Jaccard report\n",
    "report = pd.DataFrame(data=np.array([[\"RandomForest\", jaccard_rf, f1_score_rf, logloss_rf],\n",
    "                                    [\"LogisticRegression\", jaccard_lr, f1_score_lr, logloss_lr]]), columns=[\"Algorithm\", \"Jaccard\", \"F1-score\", \"LogLoss\"])\n",
    "report = report.set_index([\"Algorithm\", \"Jaccard\", \"F1-score\", \"LogLoss\"])\n",
    "report"
   ]
  },
  {
   "cell_type": "code",
   "execution_count": 526,
   "metadata": {},
   "outputs": [
    {
     "data": {
      "image/png": "[encoded data removed]",
      "text/plain": [
       "<Figure size 432x288 with 1 Axes>"
      ]
     },
     "metadata": {
      "needs_background": "light"
     },
     "output_type": "display_data"
    }
   ],
   "source": [
    "# A python dictionary\n",
    "report = {\"Random Forest\":[jaccard_rf, f1_score_rf, logloss_rf],\n",
    "\n",
    "        \"Logistic Regression\":[jaccard_lr, f1_score_lr, logloss_lr],\n",
    "\n",
    "        };\n",
    "\n",
    "# Dictionary loaded into a DataFrame       \n",
    "\n",
    "dataFrame = pd.DataFrame(data=report, index=[\"jaccard\", \"f1_score\", \"logloss\"])\n",
    "\n",
    "# Draw a vertical bar chart\n",
    "\n",
    "dataFrame.plot.bar(rot=15, title=\"RF vs LR comparisison\")\n",
    "\n",
    "plt.show(block=True)"
   ]
  },
  {
   "cell_type": "code",
   "execution_count": 527,
   "metadata": {},
   "outputs": [
    {
     "data": {
      "text/html": [
       "<div>\n",
       "<style scoped>\n",
       "    .dataframe tbody tr th:only-of-type {\n",
       "        vertical-align: middle;\n",
       "    }\n",
       "\n",
       "    .dataframe tbody tr th {\n",
       "        vertical-align: top;\n",
       "    }\n",
       "\n",
       "    .dataframe thead th {\n",
       "        text-align: right;\n",
       "    }\n",
       "</style>\n",
       "<table border=\"1\" class=\"dataframe\">\n",
       "  <thead>\n",
       "    <tr style=\"text-align: right;\">\n",
       "      <th></th>\n",
       "      <th></th>\n",
       "    </tr>\n",
       "    <tr>\n",
       "      <th>Algorithm</th>\n",
       "      <th>ROC</th>\n",
       "    </tr>\n",
       "  </thead>\n",
       "  <tbody>\n",
       "    <tr>\n",
       "      <th>RandomForest</th>\n",
       "      <th>0.7125164023473654</th>\n",
       "    </tr>\n",
       "    <tr>\n",
       "      <th>LogisticRegression</th>\n",
       "      <th>0.6508746348416763</th>\n",
       "    </tr>\n",
       "  </tbody>\n",
       "</table>\n",
       "</div>"
      ],
      "text/plain": [
       "Empty DataFrame\n",
       "Columns: []\n",
       "Index: [(RandomForest, 0.7125164023473654), (LogisticRegression, 0.6508746348416763)]"
      ]
     },
     "execution_count": 527,
     "metadata": {},
     "output_type": "execute_result"
    }
   ],
   "source": [
    "report2 = pd.DataFrame(data=np.array([[\"RandomForest\",r_a_score_RF],\n",
    "                                    [\"LogisticRegression\", r_a_score_LR]]), columns=[\"Algorithm\", \"ROC\"])\n",
    "report2 = report2.set_index([\"Algorithm\", \"ROC\"])\n",
    "report2"
   ]
  },
  {
   "cell_type": "code",
   "execution_count": 528,
   "metadata": {},
   "outputs": [
    {
     "data": {
      "image/png": "[encoded data removed]",
      "text/plain": [
       "<Figure size 432x288 with 1 Axes>"
      ]
     },
     "metadata": {
      "needs_background": "light"
     },
     "output_type": "display_data"
    }
   ],
   "source": [
    "# A python dictionary\n",
    "report2 = {\"Random Forest\":[r_a_score_RF],\n",
    "\n",
    "        \"Logistic Regression\":[r_a_score_LR],\n",
    "\n",
    "        };\n",
    "\n",
    "# Dictionary loaded into a DataFrame       \n",
    "\n",
    "dataFrame1 = pd.DataFrame(data=report2, index=[\"ROC\"])\n",
    "\n",
    "# Draw a vertical bar chart\n",
    "\n",
    "dataFrame1.plot.bar(rot=15, title=\"RF vs LR comparisison\")\n",
    "\n",
    "plt.show(block=True)"
   ]
  },
  {
   "cell_type": "code",
   "execution_count": null,
   "metadata": {},
   "outputs": [],
   "source": []
  },
  {
   "cell_type": "code",
   "execution_count": null,
   "metadata": {},
   "outputs": [],
   "source": []
  },
  {
   "cell_type": "code",
   "execution_count": null,
   "metadata": {},
   "outputs": [],
   "source": []
  },
  {
   "cell_type": "code",
   "execution_count": null,
   "metadata": {},
   "outputs": [],
   "source": []
  }
 ],
 "metadata": {
  "kernelspec": {
   "display_name": "Python 3",
   "language": "python",
   "name": "python3"
  },
  "language_info": {
   "codemirror_mode": {
    "name": "ipython",
    "version": 3
   },
   "file_extension": ".py",
   "mimetype": "text/x-python",
   "name": "python",
   "nbconvert_exporter": "python",
   "pygments_lexer": "ipython3",
   "version": "3.8.6"
  }
 },
 "nbformat": 4,
 "nbformat_minor": 1
}
